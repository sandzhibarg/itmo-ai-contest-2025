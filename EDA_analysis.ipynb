{
 "cells": [
  {
   "cell_type": "code",
   "execution_count": 138,
   "id": "4e0779fd",
   "metadata": {},
   "outputs": [],
   "source": [
    "import pandas as pd\n",
    "import numpy as np\n",
    "import matplotlib.pyplot as plt\n",
    "import seaborn as sns\n",
    "from datetime import datetime\n",
    "import warnings\n",
    "warnings.filterwarnings('ignore')\n",
    "\n",
    "plt.style.use('seaborn-v0_8')\n",
    "sns.set_palette(\"husl\")\n",
    "plt.rcParams['figure.figsize'] = (12, 8)\n",
    "plt.rcParams['font.size'] = 10"
   ]
  },
  {
   "cell_type": "markdown",
   "id": "31068fec",
   "metadata": {},
   "source": [
    "Читаем файл курсами валют"
   ]
  },
  {
   "cell_type": "code",
   "execution_count": 2,
   "id": "5a6be21e",
   "metadata": {},
   "outputs": [],
   "source": [
    "currency_df = pd.read_parquet('data/historical_currency_exchange.parquet', engine='fastparquet')"
   ]
  },
  {
   "cell_type": "code",
   "execution_count": 4,
   "id": "79aace53",
   "metadata": {},
   "outputs": [
    {
     "name": "stdout",
     "output_type": "stream",
     "text": [
      "(31, 12)\n"
     ]
    },
    {
     "data": {
      "text/html": [
       "<div>\n",
       "<style scoped>\n",
       "    .dataframe tbody tr th:only-of-type {\n",
       "        vertical-align: middle;\n",
       "    }\n",
       "\n",
       "    .dataframe tbody tr th {\n",
       "        vertical-align: top;\n",
       "    }\n",
       "\n",
       "    .dataframe thead th {\n",
       "        text-align: right;\n",
       "    }\n",
       "</style>\n",
       "<table border=\"1\" class=\"dataframe\">\n",
       "  <thead>\n",
       "    <tr style=\"text-align: right;\">\n",
       "      <th></th>\n",
       "      <th>date</th>\n",
       "      <th>AUD</th>\n",
       "      <th>BRL</th>\n",
       "      <th>CAD</th>\n",
       "      <th>EUR</th>\n",
       "      <th>GBP</th>\n",
       "      <th>JPY</th>\n",
       "      <th>MXN</th>\n",
       "      <th>NGN</th>\n",
       "      <th>RUB</th>\n",
       "      <th>SGD</th>\n",
       "      <th>USD</th>\n",
       "    </tr>\n",
       "  </thead>\n",
       "  <tbody>\n",
       "    <tr>\n",
       "      <th>0</th>\n",
       "      <td>2024-09-30</td>\n",
       "      <td>1.443654</td>\n",
       "      <td>5.434649</td>\n",
       "      <td>1.351196</td>\n",
       "      <td>0.895591</td>\n",
       "      <td>0.747153</td>\n",
       "      <td>142.573268</td>\n",
       "      <td>19.694724</td>\n",
       "      <td>1668.736400</td>\n",
       "      <td>94.133735</td>\n",
       "      <td>1.280156</td>\n",
       "      <td>1</td>\n",
       "    </tr>\n",
       "    <tr>\n",
       "      <th>1</th>\n",
       "      <td>2024-10-01</td>\n",
       "      <td>1.442917</td>\n",
       "      <td>5.444170</td>\n",
       "      <td>1.352168</td>\n",
       "      <td>0.897557</td>\n",
       "      <td>0.746956</td>\n",
       "      <td>143.831429</td>\n",
       "      <td>19.667561</td>\n",
       "      <td>1670.694524</td>\n",
       "      <td>92.898519</td>\n",
       "      <td>1.284352</td>\n",
       "      <td>1</td>\n",
       "    </tr>\n",
       "    <tr>\n",
       "      <th>2</th>\n",
       "      <td>2024-10-02</td>\n",
       "      <td>1.449505</td>\n",
       "      <td>5.425444</td>\n",
       "      <td>1.348063</td>\n",
       "      <td>0.903056</td>\n",
       "      <td>0.752241</td>\n",
       "      <td>143.806861</td>\n",
       "      <td>19.606748</td>\n",
       "      <td>1669.653006</td>\n",
       "      <td>94.583198</td>\n",
       "      <td>1.286983</td>\n",
       "      <td>1</td>\n",
       "    </tr>\n",
       "  </tbody>\n",
       "</table>\n",
       "</div>"
      ],
      "text/plain": [
       "        date       AUD       BRL       CAD       EUR       GBP         JPY  \\\n",
       "0 2024-09-30  1.443654  5.434649  1.351196  0.895591  0.747153  142.573268   \n",
       "1 2024-10-01  1.442917  5.444170  1.352168  0.897557  0.746956  143.831429   \n",
       "2 2024-10-02  1.449505  5.425444  1.348063  0.903056  0.752241  143.806861   \n",
       "\n",
       "         MXN          NGN        RUB       SGD  USD  \n",
       "0  19.694724  1668.736400  94.133735  1.280156    1  \n",
       "1  19.667561  1670.694524  92.898519  1.284352    1  \n",
       "2  19.606748  1669.653006  94.583198  1.286983    1  "
      ]
     },
     "execution_count": 4,
     "metadata": {},
     "output_type": "execute_result"
    }
   ],
   "source": [
    "print(currency_df.shape)\n",
    "currency_df.head(3)"
   ]
  },
  {
   "cell_type": "code",
   "execution_count": 5,
   "id": "0af4ee31",
   "metadata": {},
   "outputs": [
    {
     "name": "stdout",
     "output_type": "stream",
     "text": [
      "<class 'pandas.core.frame.DataFrame'>\n",
      "RangeIndex: 31 entries, 0 to 30\n",
      "Data columns (total 12 columns):\n",
      " #   Column  Non-Null Count  Dtype         \n",
      "---  ------  --------------  -----         \n",
      " 0   date    31 non-null     datetime64[ns]\n",
      " 1   AUD     31 non-null     float64       \n",
      " 2   BRL     31 non-null     float64       \n",
      " 3   CAD     31 non-null     float64       \n",
      " 4   EUR     31 non-null     float64       \n",
      " 5   GBP     31 non-null     float64       \n",
      " 6   JPY     31 non-null     float64       \n",
      " 7   MXN     31 non-null     float64       \n",
      " 8   NGN     31 non-null     float64       \n",
      " 9   RUB     31 non-null     float64       \n",
      " 10  SGD     31 non-null     float64       \n",
      " 11  USD     31 non-null     int64         \n",
      "dtypes: datetime64[ns](1), float64(10), int64(1)\n",
      "memory usage: 3.0 KB\n"
     ]
    }
   ],
   "source": [
    "currency_df.info()"
   ]
  },
  {
   "cell_type": "code",
   "execution_count": 7,
   "id": "c9e9c2f8",
   "metadata": {},
   "outputs": [
    {
     "data": {
      "text/plain": [
       "date    0\n",
       "AUD     0\n",
       "BRL     0\n",
       "CAD     0\n",
       "EUR     0\n",
       "GBP     0\n",
       "JPY     0\n",
       "MXN     0\n",
       "NGN     0\n",
       "RUB     0\n",
       "SGD     0\n",
       "USD     0\n",
       "dtype: int64"
      ]
     },
     "execution_count": 7,
     "metadata": {},
     "output_type": "execute_result"
    }
   ],
   "source": [
    "currency_df.isna().sum()"
   ]
  },
  {
   "cell_type": "code",
   "execution_count": 10,
   "id": "b64233d2",
   "metadata": {},
   "outputs": [
    {
     "data": {
      "text/html": [
       "<div>\n",
       "<style scoped>\n",
       "    .dataframe tbody tr th:only-of-type {\n",
       "        vertical-align: middle;\n",
       "    }\n",
       "\n",
       "    .dataframe tbody tr th {\n",
       "        vertical-align: top;\n",
       "    }\n",
       "\n",
       "    .dataframe thead th {\n",
       "        text-align: right;\n",
       "    }\n",
       "</style>\n",
       "<table border=\"1\" class=\"dataframe\">\n",
       "  <thead>\n",
       "    <tr style=\"text-align: right;\">\n",
       "      <th></th>\n",
       "      <th>AUD</th>\n",
       "      <th>BRL</th>\n",
       "      <th>CAD</th>\n",
       "      <th>EUR</th>\n",
       "      <th>GBP</th>\n",
       "      <th>JPY</th>\n",
       "      <th>MXN</th>\n",
       "      <th>NGN</th>\n",
       "      <th>RUB</th>\n",
       "      <th>SGD</th>\n",
       "    </tr>\n",
       "  </thead>\n",
       "  <tbody>\n",
       "    <tr>\n",
       "      <th>count</th>\n",
       "      <td>31.000000</td>\n",
       "      <td>31.000000</td>\n",
       "      <td>31.000000</td>\n",
       "      <td>31.000000</td>\n",
       "      <td>31.000000</td>\n",
       "      <td>31.000000</td>\n",
       "      <td>31.000000</td>\n",
       "      <td>31.000000</td>\n",
       "      <td>31.000000</td>\n",
       "      <td>31.000000</td>\n",
       "    </tr>\n",
       "    <tr>\n",
       "      <th>mean</th>\n",
       "      <td>1.486451</td>\n",
       "      <td>5.599606</td>\n",
       "      <td>1.373282</td>\n",
       "      <td>0.916183</td>\n",
       "      <td>0.764806</td>\n",
       "      <td>149.313721</td>\n",
       "      <td>19.650422</td>\n",
       "      <td>1640.017070</td>\n",
       "      <td>96.003479</td>\n",
       "      <td>1.308041</td>\n",
       "    </tr>\n",
       "    <tr>\n",
       "      <th>std</th>\n",
       "      <td>0.021309</td>\n",
       "      <td>0.104725</td>\n",
       "      <td>0.013313</td>\n",
       "      <td>0.008551</td>\n",
       "      <td>0.006681</td>\n",
       "      <td>2.686216</td>\n",
       "      <td>0.283454</td>\n",
       "      <td>15.192761</td>\n",
       "      <td>1.073514</td>\n",
       "      <td>0.011290</td>\n",
       "    </tr>\n",
       "    <tr>\n",
       "      <th>min</th>\n",
       "      <td>1.442917</td>\n",
       "      <td>5.425444</td>\n",
       "      <td>1.348063</td>\n",
       "      <td>0.895591</td>\n",
       "      <td>0.746956</td>\n",
       "      <td>142.573268</td>\n",
       "      <td>19.263497</td>\n",
       "      <td>1619.450022</td>\n",
       "      <td>92.898519</td>\n",
       "      <td>1.280156</td>\n",
       "    </tr>\n",
       "    <tr>\n",
       "      <th>25%</th>\n",
       "      <td>1.475624</td>\n",
       "      <td>5.486880</td>\n",
       "      <td>1.360292</td>\n",
       "      <td>0.910902</td>\n",
       "      <td>0.762839</td>\n",
       "      <td>148.544161</td>\n",
       "      <td>19.360603</td>\n",
       "      <td>1630.708907</td>\n",
       "      <td>95.450875</td>\n",
       "      <td>1.303973</td>\n",
       "    </tr>\n",
       "    <tr>\n",
       "      <th>50%</th>\n",
       "      <td>1.487595</td>\n",
       "      <td>5.625377</td>\n",
       "      <td>1.377943</td>\n",
       "      <td>0.916792</td>\n",
       "      <td>0.765915</td>\n",
       "      <td>149.168474</td>\n",
       "      <td>19.694724</td>\n",
       "      <td>1639.315783</td>\n",
       "      <td>95.922769</td>\n",
       "      <td>1.308048</td>\n",
       "    </tr>\n",
       "    <tr>\n",
       "      <th>75%</th>\n",
       "      <td>1.499793</td>\n",
       "      <td>5.689843</td>\n",
       "      <td>1.382771</td>\n",
       "      <td>0.923870</td>\n",
       "      <td>0.769698</td>\n",
       "      <td>151.214272</td>\n",
       "      <td>19.894018</td>\n",
       "      <td>1643.959480</td>\n",
       "      <td>96.868840</td>\n",
       "      <td>1.316452</td>\n",
       "    </tr>\n",
       "    <tr>\n",
       "      <th>max</th>\n",
       "      <td>1.522229</td>\n",
       "      <td>5.761654</td>\n",
       "      <td>1.390965</td>\n",
       "      <td>0.927316</td>\n",
       "      <td>0.773928</td>\n",
       "      <td>153.800613</td>\n",
       "      <td>20.048756</td>\n",
       "      <td>1670.694524</td>\n",
       "      <td>97.501463</td>\n",
       "      <td>1.324596</td>\n",
       "    </tr>\n",
       "  </tbody>\n",
       "</table>\n",
       "</div>"
      ],
      "text/plain": [
       "             AUD        BRL        CAD        EUR        GBP         JPY  \\\n",
       "count  31.000000  31.000000  31.000000  31.000000  31.000000   31.000000   \n",
       "mean    1.486451   5.599606   1.373282   0.916183   0.764806  149.313721   \n",
       "std     0.021309   0.104725   0.013313   0.008551   0.006681    2.686216   \n",
       "min     1.442917   5.425444   1.348063   0.895591   0.746956  142.573268   \n",
       "25%     1.475624   5.486880   1.360292   0.910902   0.762839  148.544161   \n",
       "50%     1.487595   5.625377   1.377943   0.916792   0.765915  149.168474   \n",
       "75%     1.499793   5.689843   1.382771   0.923870   0.769698  151.214272   \n",
       "max     1.522229   5.761654   1.390965   0.927316   0.773928  153.800613   \n",
       "\n",
       "             MXN          NGN        RUB        SGD  \n",
       "count  31.000000    31.000000  31.000000  31.000000  \n",
       "mean   19.650422  1640.017070  96.003479   1.308041  \n",
       "std     0.283454    15.192761   1.073514   0.011290  \n",
       "min    19.263497  1619.450022  92.898519   1.280156  \n",
       "25%    19.360603  1630.708907  95.450875   1.303973  \n",
       "50%    19.694724  1639.315783  95.922769   1.308048  \n",
       "75%    19.894018  1643.959480  96.868840   1.316452  \n",
       "max    20.048756  1670.694524  97.501463   1.324596  "
      ]
     },
     "execution_count": 10,
     "metadata": {},
     "output_type": "execute_result"
    }
   ],
   "source": [
    "currency_df.describe(include='float')"
   ]
  },
  {
   "cell_type": "markdown",
   "id": "fb2d4938",
   "metadata": {},
   "source": [
    "Читаем файл транзакций"
   ]
  },
  {
   "cell_type": "code",
   "execution_count": 11,
   "id": "1abf44e5",
   "metadata": {},
   "outputs": [],
   "source": [
    "transact_df = pd.read_parquet('data/transaction_fraud_data.parquet', engine='fastparquet')"
   ]
  },
  {
   "cell_type": "code",
   "execution_count": 12,
   "id": "9eecb7ed",
   "metadata": {},
   "outputs": [
    {
     "name": "stdout",
     "output_type": "stream",
     "text": [
      "(7483766, 27)\n"
     ]
    },
    {
     "data": {
      "text/html": [
       "<div>\n",
       "<style scoped>\n",
       "    .dataframe tbody tr th:only-of-type {\n",
       "        vertical-align: middle;\n",
       "    }\n",
       "\n",
       "    .dataframe tbody tr th {\n",
       "        vertical-align: top;\n",
       "    }\n",
       "\n",
       "    .dataframe thead th {\n",
       "        text-align: right;\n",
       "    }\n",
       "</style>\n",
       "<table border=\"1\" class=\"dataframe\">\n",
       "  <thead>\n",
       "    <tr style=\"text-align: right;\">\n",
       "      <th></th>\n",
       "      <th>transaction_id</th>\n",
       "      <th>customer_id</th>\n",
       "      <th>card_number</th>\n",
       "      <th>timestamp</th>\n",
       "      <th>vendor_category</th>\n",
       "      <th>vendor_type</th>\n",
       "      <th>vendor</th>\n",
       "      <th>amount</th>\n",
       "      <th>currency</th>\n",
       "      <th>country</th>\n",
       "      <th>...</th>\n",
       "      <th>ip_address</th>\n",
       "      <th>is_outside_home_country</th>\n",
       "      <th>is_high_risk_vendor</th>\n",
       "      <th>is_weekend</th>\n",
       "      <th>is_fraud</th>\n",
       "      <th>last_hour_activity.num_transactions</th>\n",
       "      <th>last_hour_activity.total_amount</th>\n",
       "      <th>last_hour_activity.unique_merchants</th>\n",
       "      <th>last_hour_activity.unique_countries</th>\n",
       "      <th>last_hour_activity.max_single_amount</th>\n",
       "    </tr>\n",
       "  </thead>\n",
       "  <tbody>\n",
       "    <tr>\n",
       "      <th>0</th>\n",
       "      <td>TX_a0ad2a2a</td>\n",
       "      <td>CUST_72886</td>\n",
       "      <td>6646734767813109</td>\n",
       "      <td>2024-09-30 00:00:01.034820</td>\n",
       "      <td>Restaurant</td>\n",
       "      <td>fast_food</td>\n",
       "      <td>Taco Bell</td>\n",
       "      <td>294.87</td>\n",
       "      <td>GBP</td>\n",
       "      <td>UK</td>\n",
       "      <td>...</td>\n",
       "      <td>197.153.60.199</td>\n",
       "      <td>False</td>\n",
       "      <td>False</td>\n",
       "      <td>False</td>\n",
       "      <td>False</td>\n",
       "      <td>1197</td>\n",
       "      <td>3.349856e+07</td>\n",
       "      <td>105</td>\n",
       "      <td>12</td>\n",
       "      <td>1.925481e+06</td>\n",
       "    </tr>\n",
       "    <tr>\n",
       "      <th>1</th>\n",
       "      <td>TX_3599c101</td>\n",
       "      <td>CUST_70474</td>\n",
       "      <td>376800864692727</td>\n",
       "      <td>2024-09-30 00:00:01.764464</td>\n",
       "      <td>Entertainment</td>\n",
       "      <td>gaming</td>\n",
       "      <td>Steam</td>\n",
       "      <td>3368.97</td>\n",
       "      <td>BRL</td>\n",
       "      <td>Brazil</td>\n",
       "      <td>...</td>\n",
       "      <td>208.123.221.203</td>\n",
       "      <td>True</td>\n",
       "      <td>True</td>\n",
       "      <td>False</td>\n",
       "      <td>True</td>\n",
       "      <td>509</td>\n",
       "      <td>2.011476e+07</td>\n",
       "      <td>100</td>\n",
       "      <td>12</td>\n",
       "      <td>5.149117e+06</td>\n",
       "    </tr>\n",
       "    <tr>\n",
       "      <th>2</th>\n",
       "      <td>TX_a9461c6d</td>\n",
       "      <td>CUST_10715</td>\n",
       "      <td>5251909460951913</td>\n",
       "      <td>2024-09-30 00:00:02.273762</td>\n",
       "      <td>Grocery</td>\n",
       "      <td>physical</td>\n",
       "      <td>Whole Foods</td>\n",
       "      <td>102582.38</td>\n",
       "      <td>JPY</td>\n",
       "      <td>Japan</td>\n",
       "      <td>...</td>\n",
       "      <td>10.194.159.204</td>\n",
       "      <td>False</td>\n",
       "      <td>False</td>\n",
       "      <td>False</td>\n",
       "      <td>False</td>\n",
       "      <td>332</td>\n",
       "      <td>3.916385e+07</td>\n",
       "      <td>97</td>\n",
       "      <td>12</td>\n",
       "      <td>1.852242e+06</td>\n",
       "    </tr>\n",
       "  </tbody>\n",
       "</table>\n",
       "<p>3 rows × 27 columns</p>\n",
       "</div>"
      ],
      "text/plain": [
       "  transaction_id customer_id       card_number                  timestamp  \\\n",
       "0    TX_a0ad2a2a  CUST_72886  6646734767813109 2024-09-30 00:00:01.034820   \n",
       "1    TX_3599c101  CUST_70474   376800864692727 2024-09-30 00:00:01.764464   \n",
       "2    TX_a9461c6d  CUST_10715  5251909460951913 2024-09-30 00:00:02.273762   \n",
       "\n",
       "  vendor_category vendor_type       vendor     amount currency country  ...  \\\n",
       "0      Restaurant   fast_food    Taco Bell     294.87      GBP      UK  ...   \n",
       "1   Entertainment      gaming        Steam    3368.97      BRL  Brazil  ...   \n",
       "2         Grocery    physical  Whole Foods  102582.38      JPY   Japan  ...   \n",
       "\n",
       "        ip_address is_outside_home_country is_high_risk_vendor  is_weekend  \\\n",
       "0   197.153.60.199                   False               False       False   \n",
       "1  208.123.221.203                    True                True       False   \n",
       "2   10.194.159.204                   False               False       False   \n",
       "\n",
       "  is_fraud last_hour_activity.num_transactions  \\\n",
       "0    False                                1197   \n",
       "1     True                                 509   \n",
       "2    False                                 332   \n",
       "\n",
       "  last_hour_activity.total_amount last_hour_activity.unique_merchants  \\\n",
       "0                    3.349856e+07                                 105   \n",
       "1                    2.011476e+07                                 100   \n",
       "2                    3.916385e+07                                  97   \n",
       "\n",
       "   last_hour_activity.unique_countries  last_hour_activity.max_single_amount  \n",
       "0                                   12                          1.925481e+06  \n",
       "1                                   12                          5.149117e+06  \n",
       "2                                   12                          1.852242e+06  \n",
       "\n",
       "[3 rows x 27 columns]"
      ]
     },
     "execution_count": 12,
     "metadata": {},
     "output_type": "execute_result"
    }
   ],
   "source": [
    "print(transact_df.shape)\n",
    "transact_df.head(3)"
   ]
  },
  {
   "cell_type": "code",
   "execution_count": 14,
   "id": "3ef89221",
   "metadata": {},
   "outputs": [
    {
     "data": {
      "text/plain": [
       "Index(['transaction_id', 'customer_id', 'card_number', 'timestamp',\n",
       "       'vendor_category', 'vendor_type', 'vendor', 'amount', 'currency',\n",
       "       'country', 'city', 'city_size', 'card_type', 'is_card_present',\n",
       "       'device', 'channel', 'device_fingerprint', 'ip_address',\n",
       "       'is_outside_home_country', 'is_high_risk_vendor', 'is_weekend',\n",
       "       'is_fraud', 'last_hour_activity.num_transactions',\n",
       "       'last_hour_activity.total_amount',\n",
       "       'last_hour_activity.unique_merchants',\n",
       "       'last_hour_activity.unique_countries',\n",
       "       'last_hour_activity.max_single_amount'],\n",
       "      dtype='object')"
      ]
     },
     "execution_count": 14,
     "metadata": {},
     "output_type": "execute_result"
    }
   ],
   "source": [
    "transact_df.columns"
   ]
  },
  {
   "cell_type": "code",
   "execution_count": 13,
   "id": "57bcfcf0",
   "metadata": {},
   "outputs": [
    {
     "name": "stdout",
     "output_type": "stream",
     "text": [
      "<class 'pandas.core.frame.DataFrame'>\n",
      "RangeIndex: 7483766 entries, 0 to 7483765\n",
      "Data columns (total 27 columns):\n",
      " #   Column                                Dtype         \n",
      "---  ------                                -----         \n",
      " 0   transaction_id                        object        \n",
      " 1   customer_id                           object        \n",
      " 2   card_number                           int64         \n",
      " 3   timestamp                             datetime64[us]\n",
      " 4   vendor_category                       object        \n",
      " 5   vendor_type                           object        \n",
      " 6   vendor                                object        \n",
      " 7   amount                                float64       \n",
      " 8   currency                              object        \n",
      " 9   country                               object        \n",
      " 10  city                                  object        \n",
      " 11  city_size                             object        \n",
      " 12  card_type                             object        \n",
      " 13  is_card_present                       bool          \n",
      " 14  device                                object        \n",
      " 15  channel                               object        \n",
      " 16  device_fingerprint                    object        \n",
      " 17  ip_address                            object        \n",
      " 18  is_outside_home_country               bool          \n",
      " 19  is_high_risk_vendor                   bool          \n",
      " 20  is_weekend                            bool          \n",
      " 21  is_fraud                              bool          \n",
      " 22  last_hour_activity.num_transactions   int64         \n",
      " 23  last_hour_activity.total_amount       float64       \n",
      " 24  last_hour_activity.unique_merchants   int64         \n",
      " 25  last_hour_activity.unique_countries   int64         \n",
      " 26  last_hour_activity.max_single_amount  float64       \n",
      "dtypes: bool(5), datetime64[us](1), float64(3), int64(4), object(14)\n",
      "memory usage: 1.3+ GB\n"
     ]
    }
   ],
   "source": [
    "transact_df.info()"
   ]
  },
  {
   "cell_type": "code",
   "execution_count": 15,
   "id": "8278be78",
   "metadata": {},
   "outputs": [
    {
     "data": {
      "text/plain": [
       "transaction_id                          0\n",
       "customer_id                             0\n",
       "card_number                             0\n",
       "timestamp                               0\n",
       "vendor_category                         0\n",
       "vendor_type                             0\n",
       "vendor                                  0\n",
       "amount                                  0\n",
       "currency                                0\n",
       "country                                 0\n",
       "city                                    0\n",
       "city_size                               0\n",
       "card_type                               0\n",
       "is_card_present                         0\n",
       "device                                  0\n",
       "channel                                 0\n",
       "device_fingerprint                      0\n",
       "ip_address                              0\n",
       "is_outside_home_country                 0\n",
       "is_high_risk_vendor                     0\n",
       "is_weekend                              0\n",
       "is_fraud                                0\n",
       "last_hour_activity.num_transactions     0\n",
       "last_hour_activity.total_amount         0\n",
       "last_hour_activity.unique_merchants     0\n",
       "last_hour_activity.unique_countries     0\n",
       "last_hour_activity.max_single_amount    0\n",
       "dtype: int64"
      ]
     },
     "execution_count": 15,
     "metadata": {},
     "output_type": "execute_result"
    }
   ],
   "source": [
    "transact_df.isna().sum()"
   ]
  },
  {
   "cell_type": "markdown",
   "id": "dc45de2c",
   "metadata": {},
   "source": [
    "пропущенных значений не найдено"
   ]
  },
  {
   "cell_type": "code",
   "execution_count": 30,
   "id": "366ef4ac",
   "metadata": {},
   "outputs": [
    {
     "data": {
      "text/plain": [
       "transaction_id                          7477306\n",
       "customer_id                                4869\n",
       "card_number                                5000\n",
       "timestamp                               7483754\n",
       "vendor_category                               8\n",
       "vendor_type                                  17\n",
       "vendor                                      105\n",
       "amount                                  2831167\n",
       "currency                                     11\n",
       "country                                      12\n",
       "city                                         11\n",
       "city_size                                     2\n",
       "card_type                                     5\n",
       "is_card_present                               2\n",
       "device                                        9\n",
       "channel                                       3\n",
       "device_fingerprint                       785462\n",
       "ip_address                              7477187\n",
       "is_outside_home_country                       2\n",
       "is_high_risk_vendor                           2\n",
       "is_weekend                                    2\n",
       "is_fraud                                      2\n",
       "last_hour_activity.num_transactions        3538\n",
       "last_hour_activity.total_amount         7483717\n",
       "last_hour_activity.unique_merchants         106\n",
       "last_hour_activity.unique_countries          13\n",
       "last_hour_activity.max_single_amount     150632\n",
       "dtype: int64"
      ]
     },
     "execution_count": 30,
     "metadata": {},
     "output_type": "execute_result"
    }
   ],
   "source": [
    "transact_df.nunique()"
   ]
  },
  {
   "cell_type": "code",
   "execution_count": 19,
   "id": "59cc2f79",
   "metadata": {},
   "outputs": [
    {
     "data": {
      "text/html": [
       "<div>\n",
       "<style scoped>\n",
       "    .dataframe tbody tr th:only-of-type {\n",
       "        vertical-align: middle;\n",
       "    }\n",
       "\n",
       "    .dataframe tbody tr th {\n",
       "        vertical-align: top;\n",
       "    }\n",
       "\n",
       "    .dataframe thead th {\n",
       "        text-align: right;\n",
       "    }\n",
       "</style>\n",
       "<table border=\"1\" class=\"dataframe\">\n",
       "  <thead>\n",
       "    <tr style=\"text-align: right;\">\n",
       "      <th></th>\n",
       "      <th>card_number</th>\n",
       "      <th>amount</th>\n",
       "      <th>last_hour_activity.num_transactions</th>\n",
       "      <th>last_hour_activity.total_amount</th>\n",
       "      <th>last_hour_activity.unique_merchants</th>\n",
       "      <th>last_hour_activity.unique_countries</th>\n",
       "      <th>last_hour_activity.max_single_amount</th>\n",
       "    </tr>\n",
       "  </thead>\n",
       "  <tbody>\n",
       "    <tr>\n",
       "      <th>count</th>\n",
       "      <td>7.483766e+06</td>\n",
       "      <td>7.483766e+06</td>\n",
       "      <td>7.483766e+06</td>\n",
       "      <td>7.483766e+06</td>\n",
       "      <td>7.483766e+06</td>\n",
       "      <td>7.483766e+06</td>\n",
       "      <td>7.483766e+06</td>\n",
       "    </tr>\n",
       "    <tr>\n",
       "      <th>mean</th>\n",
       "      <td>4.222100e+15</td>\n",
       "      <td>4.792468e+04</td>\n",
       "      <td>4.091429e+02</td>\n",
       "      <td>1.991719e+07</td>\n",
       "      <td>8.002226e+01</td>\n",
       "      <td>1.066260e+01</td>\n",
       "      <td>1.726432e+06</td>\n",
       "    </tr>\n",
       "    <tr>\n",
       "      <th>std</th>\n",
       "      <td>2.341170e+15</td>\n",
       "      <td>1.775562e+05</td>\n",
       "      <td>3.910964e+02</td>\n",
       "      <td>3.565890e+07</td>\n",
       "      <td>3.047287e+01</td>\n",
       "      <td>2.617777e+00</td>\n",
       "      <td>1.398325e+06</td>\n",
       "    </tr>\n",
       "    <tr>\n",
       "      <th>min</th>\n",
       "      <td>3.700086e+14</td>\n",
       "      <td>1.000000e-02</td>\n",
       "      <td>0.000000e+00</td>\n",
       "      <td>1.454232e-02</td>\n",
       "      <td>0.000000e+00</td>\n",
       "      <td>0.000000e+00</td>\n",
       "      <td>1.454232e-02</td>\n",
       "    </tr>\n",
       "    <tr>\n",
       "      <th>25%</th>\n",
       "      <td>4.004400e+15</td>\n",
       "      <td>3.635300e+02</td>\n",
       "      <td>1.050000e+02</td>\n",
       "      <td>3.367823e+06</td>\n",
       "      <td>6.300000e+01</td>\n",
       "      <td>1.100000e+01</td>\n",
       "      <td>8.015712e+05</td>\n",
       "    </tr>\n",
       "    <tr>\n",
       "      <th>50%</th>\n",
       "      <td>5.010745e+15</td>\n",
       "      <td>1.177450e+03</td>\n",
       "      <td>2.920000e+02</td>\n",
       "      <td>1.017851e+07</td>\n",
       "      <td>9.500000e+01</td>\n",
       "      <td>1.200000e+01</td>\n",
       "      <td>1.235738e+06</td>\n",
       "    </tr>\n",
       "    <tr>\n",
       "      <th>75%</th>\n",
       "      <td>5.999914e+15</td>\n",
       "      <td>2.242953e+04</td>\n",
       "      <td>6.060000e+02</td>\n",
       "      <td>2.273432e+07</td>\n",
       "      <td>1.040000e+02</td>\n",
       "      <td>1.200000e+01</td>\n",
       "      <td>2.290742e+06</td>\n",
       "    </tr>\n",
       "    <tr>\n",
       "      <th>max</th>\n",
       "      <td>6.999728e+15</td>\n",
       "      <td>6.253153e+06</td>\n",
       "      <td>3.962000e+03</td>\n",
       "      <td>1.072915e+09</td>\n",
       "      <td>1.050000e+02</td>\n",
       "      <td>1.200000e+01</td>\n",
       "      <td>6.253153e+06</td>\n",
       "    </tr>\n",
       "  </tbody>\n",
       "</table>\n",
       "</div>"
      ],
      "text/plain": [
       "        card_number        amount  last_hour_activity.num_transactions  \\\n",
       "count  7.483766e+06  7.483766e+06                         7.483766e+06   \n",
       "mean   4.222100e+15  4.792468e+04                         4.091429e+02   \n",
       "std    2.341170e+15  1.775562e+05                         3.910964e+02   \n",
       "min    3.700086e+14  1.000000e-02                         0.000000e+00   \n",
       "25%    4.004400e+15  3.635300e+02                         1.050000e+02   \n",
       "50%    5.010745e+15  1.177450e+03                         2.920000e+02   \n",
       "75%    5.999914e+15  2.242953e+04                         6.060000e+02   \n",
       "max    6.999728e+15  6.253153e+06                         3.962000e+03   \n",
       "\n",
       "       last_hour_activity.total_amount  last_hour_activity.unique_merchants  \\\n",
       "count                     7.483766e+06                         7.483766e+06   \n",
       "mean                      1.991719e+07                         8.002226e+01   \n",
       "std                       3.565890e+07                         3.047287e+01   \n",
       "min                       1.454232e-02                         0.000000e+00   \n",
       "25%                       3.367823e+06                         6.300000e+01   \n",
       "50%                       1.017851e+07                         9.500000e+01   \n",
       "75%                       2.273432e+07                         1.040000e+02   \n",
       "max                       1.072915e+09                         1.050000e+02   \n",
       "\n",
       "       last_hour_activity.unique_countries  \\\n",
       "count                         7.483766e+06   \n",
       "mean                          1.066260e+01   \n",
       "std                           2.617777e+00   \n",
       "min                           0.000000e+00   \n",
       "25%                           1.100000e+01   \n",
       "50%                           1.200000e+01   \n",
       "75%                           1.200000e+01   \n",
       "max                           1.200000e+01   \n",
       "\n",
       "       last_hour_activity.max_single_amount  \n",
       "count                          7.483766e+06  \n",
       "mean                           1.726432e+06  \n",
       "std                            1.398325e+06  \n",
       "min                            1.454232e-02  \n",
       "25%                            8.015712e+05  \n",
       "50%                            1.235738e+06  \n",
       "75%                            2.290742e+06  \n",
       "max                            6.253153e+06  "
      ]
     },
     "execution_count": 19,
     "metadata": {},
     "output_type": "execute_result"
    }
   ],
   "source": [
    "transact_df.describe(include='number')"
   ]
  },
  {
   "cell_type": "markdown",
   "id": "9787cf00",
   "metadata": {},
   "source": [
    "### Среднее мошеннических транзакций"
   ]
  },
  {
   "cell_type": "code",
   "execution_count": 26,
   "id": "688e0a03",
   "metadata": {},
   "outputs": [
    {
     "name": "stdout",
     "output_type": "stream",
     "text": [
      "Кол-во всего транзакций: 7483766\n",
      "Кол-во уникальных транзакций: 7477306\n"
     ]
    }
   ],
   "source": [
    "print(f'Кол-во всего транзакций: {transact_df['transaction_id'].count()}')\n",
    "print('Кол-во уникальных транзакций:', transact_df['transaction_id'].nunique())"
   ]
  },
  {
   "cell_type": "code",
   "execution_count": 29,
   "id": "82358d47",
   "metadata": {},
   "outputs": [
    {
     "data": {
      "text/plain": [
       "array([False,  True])"
      ]
     },
     "execution_count": 29,
     "metadata": {},
     "output_type": "execute_result"
    }
   ],
   "source": [
    "transact_df['is_fraud'].unique()"
   ]
  },
  {
   "cell_type": "code",
   "execution_count": 35,
   "id": "f5380052",
   "metadata": {},
   "outputs": [
    {
     "name": "stdout",
     "output_type": "stream",
     "text": [
      "Среднее мошеннических транзакций: 0.19972818498066347\n"
     ]
    }
   ],
   "source": [
    "print('Среднее мошеннических транзакций:', transact_df['is_fraud'].mean())"
   ]
  },
  {
   "cell_type": "code",
   "execution_count": 36,
   "id": "560fd776",
   "metadata": {},
   "outputs": [
    {
     "data": {
      "text/plain": [
       "is_fraud\n",
       "False    5989047\n",
       "True     1494719\n",
       "Name: count, dtype: int64"
      ]
     },
     "execution_count": 36,
     "metadata": {},
     "output_type": "execute_result"
    }
   ],
   "source": [
    "transact_df['is_fraud'].value_counts()"
   ]
  },
  {
   "cell_type": "code",
   "execution_count": 39,
   "id": "9b833c76",
   "metadata": {},
   "outputs": [
    {
     "name": "stdout",
     "output_type": "stream",
     "text": [
      "Общее количество транзакций: 7,483,766\n",
      "Мошеннические транзакции: 1,494,719\n",
      "Легитимные транзакции: 5,989,047\n",
      "Доля мошеннических: 0.20 (19.97%)\n"
     ]
    }
   ],
   "source": [
    "total = len(transact_df)\n",
    "fraud_count = transact_df['is_fraud'].sum()\n",
    "legitimate_count = total - fraud_count\n",
    "fraud_ratio = fraud_count / total\n",
    "\n",
    "print(f\"Общее количество транзакций: {total:,}\")\n",
    "print(f\"Мошеннические транзакции: {fraud_count:,}\")\n",
    "print(f\"Легитимные транзакции: {legitimate_count:,}\")\n",
    "print(f\"Доля мошеннических: {fraud_ratio:.2f} ({fraud_ratio * 100:.2f}%)\")"
   ]
  },
  {
   "cell_type": "code",
   "execution_count": 41,
   "id": "3298c55a",
   "metadata": {},
   "outputs": [
    {
     "name": "stdout",
     "output_type": "stream",
     "text": [
      "Количество строк с дублированными ID: 12913\n",
      "     transaction_id     amount  is_fraud                  timestamp\n",
      "1490    TX_87660936     513.45      True 2024-09-30 00:17:28.217573\n",
      "1678    TX_fb4eb4bb      86.02     False 2024-09-30 00:19:28.942167\n",
      "2210    TX_3ce26d57     107.16     False 2024-09-30 00:25:46.654336\n",
      "2432    TX_093ab599     833.79     False 2024-09-30 00:28:21.715931\n",
      "2868    TX_e64012a3     205.15     False 2024-09-30 00:33:31.100514\n",
      "3193    TX_2fa39302  212114.73     False 2024-09-30 00:37:17.967209\n",
      "3625    TX_c3e75e19   29778.73     False 2024-09-30 00:42:33.776014\n",
      "3734    TX_5b629f36     468.05     False 2024-09-30 00:44:05.485204\n",
      "4287    TX_895d5416   21620.59      True 2024-09-30 00:50:49.479786\n",
      "4804    TX_4dabaec0     475.58     False 2024-09-30 00:57:08.731461\n"
     ]
    }
   ],
   "source": [
    "# находим дублированные transaction_id\n",
    "duplicated_transactions = transact_df[transact_df.duplicated(subset=['transaction_id'], keep=False)]\n",
    "print(f\"Количество строк с дублированными ID: {len(duplicated_transactions)}\")\n",
    "\n",
    "# смотрим примеры дубликатов\n",
    "sample_duplicates = duplicated_transactions.groupby('transaction_id').head(2)\n",
    "print(sample_duplicates[['transaction_id', 'amount', 'is_fraud', 'timestamp']].head(10))"
   ]
  },
  {
   "cell_type": "code",
   "execution_count": 42,
   "id": "01e142ad",
   "metadata": {},
   "outputs": [
    {
     "name": "stdout",
     "output_type": "stream",
     "text": [
      "Доля по уникальным транзакциям: 0.199730 (19.9730%)\n"
     ]
    }
   ],
   "source": [
    "# берем только первое вхождение каждого transaction_id\n",
    "unique_transactions = transact_df.drop_duplicates(subset=['transaction_id'])\n",
    "fraud_ratio_unique = unique_transactions['is_fraud'].mean()\n",
    "print(f\"Доля по уникальным транзакциям: {fraud_ratio_unique:.6f} ({fraud_ratio_unique * 100:.4f}%)\")"
   ]
  },
  {
   "cell_type": "markdown",
   "id": "d67fc0de",
   "metadata": {},
   "source": [
    "получился почти такой же результат"
   ]
  },
  {
   "cell_type": "code",
   "execution_count": 139,
   "id": "7a52460b",
   "metadata": {},
   "outputs": [
    {
     "name": "stdout",
     "output_type": "stream",
     "text": [
      "АНАЛИЗ МОШЕННИЧЕСКИХ ТРАНЗАКЦИЙ\n",
      "--------------------------------------------------\n",
      "Легитимные: 5,989,047 (80.03%)\n",
      "Мошеннические: 1,494,719 (19.97%)\n",
      "Соотношение мошенничества: 1:4\n"
     ]
    },
    {
     "data": {
      "image/png": "[encoded data removed]",
      "text/plain": [
       "<Figure size 1500x600 with 2 Axes>"
      ]
     },
     "metadata": {},
     "output_type": "display_data"
    }
   ],
   "source": [
    "print(\"АНАЛИЗ МОШЕННИЧЕСКИХ ТРАНЗАКЦИЙ\")\n",
    "print(\"-\" * 50)\n",
    "fraud_stats = transact_df['is_fraud'].value_counts()\n",
    "fraud_pct = transact_df['is_fraud'].value_counts(normalize=True) * 100\n",
    "\n",
    "print(f\"Легитимные: {fraud_stats[False]:,} ({fraud_pct[False]:.2f}%)\")\n",
    "print(f\"Мошеннические: {fraud_stats[True]:,} ({fraud_pct[True]:.2f}%)\")\n",
    "print(f\"Соотношение мошенничества: 1:{fraud_stats[False]//fraud_stats[True]}\")\n",
    "\n",
    "fig, axes = plt.subplots(1, 2, figsize=(15, 6))\n",
    "\n",
    "# график распределения is_fraud\n",
    "fraud_stats.plot(kind='bar', ax=axes[0], color=['lightgreen', 'salmon'])\n",
    "axes[0].set_title('Распределение мошеннических транзакций', fontsize=14, fontweight='bold')\n",
    "axes[0].set_xlabel('Тип транзакции')\n",
    "axes[0].set_ylabel('Количество')\n",
    "axes[0].set_xticklabels(['Легитимные', 'Мошеннические'], rotation=0)\n",
    "\n",
    "# pie chart\n",
    "axes[1].pie(fraud_stats.values, labels=['Легитимные', 'Мошеннические'], \n",
    "           autopct='%1.2f%%', colors=['lightgreen', 'salmon'])\n",
    "axes[1].set_title('Доля мошеннических транзакций', fontsize=14, fontweight='bold')\n",
    "\n",
    "plt.tight_layout()\n",
    "plt.show()"
   ]
  },
  {
   "cell_type": "markdown",
   "id": "31dc2380",
   "metadata": {},
   "source": [
    "### В каких топ-5 странах зафиксировано больше всего мошеннических транзакций?\n"
   ]
  },
  {
   "cell_type": "code",
   "execution_count": 43,
   "id": "5419b2a8",
   "metadata": {},
   "outputs": [
    {
     "name": "stdout",
     "output_type": "stream",
     "text": [
      "Топ-5 стран по количеству мошеннических транзакций (уникальные):\n",
      "country\n",
      "Russia       299176\n",
      "Mexico       298579\n",
      "Brazil       298381\n",
      "Nigeria      298358\n",
      "Australia     37618\n",
      "Name: count, dtype: int64\n",
      "\n",
      "Общее количество уникальных мошеннических транзакций: 1,493,446\n"
     ]
    }
   ],
   "source": [
    "# сначала убираем дубликаты, потом фильтруем мошеннические\n",
    "unique_transactions = transact_df.drop_duplicates(subset=['transaction_id'])\n",
    "fraud_unique = unique_transactions[unique_transactions['is_fraud'] == True]\n",
    "\n",
    "# группируем по странам\n",
    "fraud_by_country_unique = fraud_unique['country'].value_counts().head(5)\n",
    "\n",
    "print(\"Топ-5 стран по количеству мошеннических транзакций (уникальные):\")\n",
    "print(fraud_by_country_unique)\n",
    "print(f\"\\nОбщее количество уникальных мошеннических транзакций: {len(fraud_unique):,}\")"
   ]
  },
  {
   "cell_type": "code",
   "execution_count": 53,
   "id": "e641c7ce",
   "metadata": {},
   "outputs": [
    {
     "data": {
      "text/plain": [
       "'Russia,Mexico,Brazil,Nigeria,Australia'"
      ]
     },
     "execution_count": 53,
     "metadata": {},
     "output_type": "execute_result"
    }
   ],
   "source": [
    "','.join(fraud_by_country_unique.keys())"
   ]
  },
  {
   "cell_type": "code",
   "execution_count": 54,
   "id": "c77eeeb6",
   "metadata": {},
   "outputs": [
    {
     "name": "stdout",
     "output_type": "stream",
     "text": [
      "Топ-5 стран по количеству мошеннических транзакций (все строки):\n",
      "country\n",
      "Russia       299425\n",
      "Mexico       298841\n",
      "Brazil       298629\n",
      "Nigeria      298600\n",
      "Australia     37652\n",
      "Name: count, dtype: int64\n",
      "\n",
      "Общее количество мошеннических транзакций: 1,494,719\n"
     ]
    }
   ],
   "source": [
    "# попробуем не убирать дубликаты\n",
    "# фильтруем только мошеннические транзакции\n",
    "fraud_transactions = transact_df[transact_df['is_fraud'] == True]\n",
    "\n",
    "# группируем по странам и считаем количество\n",
    "fraud_by_country = fraud_transactions['country'].value_counts().head(5)\n",
    "\n",
    "print(\"Топ-5 стран по количеству мошеннических транзакций (все строки):\")\n",
    "print(fraud_by_country)\n",
    "print(f\"\\nОбщее количество мошеннических транзакций: {len(fraud_transactions):,}\")"
   ]
  },
  {
   "cell_type": "code",
   "execution_count": 55,
   "id": "5881a38b",
   "metadata": {},
   "outputs": [
    {
     "data": {
      "text/plain": [
       "'Russia,Mexico,Brazil,Nigeria,Australia'"
      ]
     },
     "execution_count": 55,
     "metadata": {},
     "output_type": "execute_result"
    }
   ],
   "source": [
    "','.join(fraud_by_country.keys())"
   ]
  },
  {
   "cell_type": "markdown",
   "id": "1206af7f",
   "metadata": {},
   "source": [
    "### Сколько транзакций в среднем совершает один клиент за час?"
   ]
  },
  {
   "cell_type": "code",
   "execution_count": 60,
   "id": "329b5c45",
   "metadata": {},
   "outputs": [
    {
     "name": "stderr",
     "output_type": "stream",
     "text": [
      "C:\\Users\\sandzhi\\AppData\\Local\\Temp\\ipykernel_13956\\778995551.py:6: FutureWarning: 'H' is deprecated and will be removed in a future version, please use 'h' instead.\n",
      "  unique_df['hour_period'] = unique_df['timestamp'].dt.floor('H')  # округляем до часа\n"
     ]
    },
    {
     "name": "stdout",
     "output_type": "stream",
     "text": [
      "Среднее кол-во транзакций за час: 2.45\n",
      "Медиана: 2.00\n",
      "Максимум за час: 17\n",
      "Минимум за час: 1\n"
     ]
    }
   ],
   "source": [
    "# удаляем дубликаты\n",
    "unique_df = transact_df.drop_duplicates(subset=['transaction_id'])\n",
    "\n",
    "# добавляем час к timestamp для группировки\n",
    "unique_df = unique_df.copy()\n",
    "unique_df['hour_period'] = unique_df['timestamp'].dt.floor('H')  # округляем до часа\n",
    "\n",
    "# группируем по клиенту и часу, считаем транзакции\n",
    "hourly_activity = unique_df.groupby(['customer_id', 'hour_period']).size().reset_index(name='transactions_count')\n",
    "\n",
    "# считаем среднее количество транзакций за час на клиента\n",
    "avg_transactions_per_hour = hourly_activity['transactions_count'].mean()\n",
    "print(f\"Среднее кол-во транзакций за час: {avg_transactions_per_hour:.2f}\")\n",
    "\n",
    "# дополнительная статистика\n",
    "print(f\"Медиана: {hourly_activity['transactions_count'].median():.2f}\")\n",
    "print(f\"Максимум за час: {hourly_activity['transactions_count'].max()}\")\n",
    "print(f\"Минимум за час: {hourly_activity['transactions_count'].min()}\")"
   ]
  },
  {
   "cell_type": "code",
   "execution_count": 61,
   "id": "66ed63f6",
   "metadata": {},
   "outputs": [
    {
     "name": "stdout",
     "output_type": "stream",
     "text": [
      "Статистика по клиентам:\n",
      "count    4869.000000\n",
      "mean        2.424927\n",
      "std         0.436122\n",
      "min         1.803957\n",
      "25%         2.117647\n",
      "50%         2.378882\n",
      "75%         2.662632\n",
      "max         5.473397\n",
      "Name: avg_per_hour, dtype: float64\n",
      "\n",
      "Общее среднее транзакций за час: 2.42\n"
     ]
    }
   ],
   "source": [
    "# анализ по клиентам - сколько часов они были активны и сколько транзакций сделали\n",
    "client_stats = unique_df.groupby('customer_id').agg({\n",
    "    'timestamp': ['count', 'nunique'],  # общее кол-во транзакций и уникальных timestamp\n",
    "    'hour_period': 'nunique'  # в скольких разных часах был активен\n",
    "}).round(2)\n",
    "\n",
    "client_stats.columns = ['total_transactions', 'unique_timestamps', 'active_hours']\n",
    "\n",
    "# среднее кол-во транзакций за час для каждого клиента\n",
    "client_stats['avg_per_hour'] = client_stats['total_transactions'] / client_stats['active_hours']\n",
    "\n",
    "print(\"Статистика по клиентам:\")\n",
    "print(client_stats['avg_per_hour'].describe())\n",
    "print(f\"\\nОбщее среднее транзакций за час: {client_stats['avg_per_hour'].mean():.2f}\")"
   ]
  },
  {
   "cell_type": "code",
   "execution_count": 62,
   "id": "d0e54457",
   "metadata": {},
   "outputs": [
    {
     "name": "stdout",
     "output_type": "stream",
     "text": [
      "\n",
      "Распределение: сколько транзакций за час делают клиенты:\n",
      "transactions_count\n",
      "1     951486\n",
      "2     879615\n",
      "3     599961\n",
      "4     334146\n",
      "5     163425\n",
      "6      71855\n",
      "7      30068\n",
      "8      11887\n",
      "9       4708\n",
      "10      1950\n",
      "Name: count, dtype: int64\n",
      "\n",
      "Процент часов с >10 транзакциями: 0.04%\n"
     ]
    }
   ],
   "source": [
    "# дополнительно\n",
    "# смотрим сколько клиентов делают разное количество транзакций за час\n",
    "activity_distribution = hourly_activity['transactions_count'].value_counts().sort_index()\n",
    "print(\"\\nРаспределение: сколько транзакций за час делают клиенты:\")\n",
    "print(activity_distribution.head(10))\n",
    "\n",
    "# процент клиентов с высокой активностью (>10 транзакций в час)\n",
    "high_activity = hourly_activity[hourly_activity['transactions_count'] > 10]\n",
    "high_activity_percent = len(high_activity) / len(hourly_activity) * 100\n",
    "print(f\"\\nПроцент часов с >10 транзакциями: {high_activity_percent:.2f}%\")"
   ]
  },
  {
   "cell_type": "markdown",
   "id": "2c0eddb2",
   "metadata": {},
   "source": [
    "### Какова доля мошенничества среди транзакций у продавцов с высоким риском (is_high_risk_vendor=True)?"
   ]
  },
  {
   "cell_type": "code",
   "execution_count": 63,
   "id": "00713a95",
   "metadata": {},
   "outputs": [
    {
     "name": "stdout",
     "output_type": "stream",
     "text": [
      "Доля мошенничества у высоко-рисковых продавцов: 0.200000 (20.0000%)\n",
      "Количество транзакций у высоко-рисковых продавцов: 1,870,408\n",
      "Из них мошеннических: 374,082\n"
     ]
    }
   ],
   "source": [
    "# используем уникальные транзакции (без дубликатов)\n",
    "unique_df = transact_df.drop_duplicates(subset=['transaction_id'])\n",
    "\n",
    "# фильтруем транзакции у высоко-рисковых продавцов\n",
    "high_risk_transactions = unique_df[unique_df['is_high_risk_vendor'] == True]\n",
    "\n",
    "# считаем долю мошенничества у высоко-рисковых продавцов\n",
    "fraud_rate_high_risk = high_risk_transactions['is_fraud'].mean()\n",
    "\n",
    "print(f\"Доля мошенничества у высоко-рисковых продавцов: {fraud_rate_high_risk:.6f} ({fraud_rate_high_risk * 100:.4f}%)\")\n",
    "print(f\"Количество транзакций у высоко-рисковых продавцов: {len(high_risk_transactions):,}\")\n",
    "print(f\"Из них мошеннических: {high_risk_transactions['is_fraud'].sum():,}\")"
   ]
  },
  {
   "cell_type": "code",
   "execution_count": 64,
   "id": "55b7523c",
   "metadata": {},
   "outputs": [
    {
     "name": "stdout",
     "output_type": "stream",
     "text": [
      "\n",
      "Сравнение:\n",
      "Высоко-рисковые продавцы: 20.0000%\n",
      "Низко-рисковые продавцы: 19.9641%\n",
      "Общая доля мошенничества: 19.9730%\n",
      "\n",
      "Высоко-рисковые продавцы в 1.00 раз опаснее\n"
     ]
    }
   ],
   "source": [
    "# Сравнение с низко-рисковыми продавцами:\n",
    "# низко-рисковые продавцы\n",
    "low_risk_transactions = unique_df[unique_df['is_high_risk_vendor'] == False]\n",
    "fraud_rate_low_risk = low_risk_transactions['is_fraud'].mean()\n",
    "\n",
    "# общая статистика для сравнения\n",
    "overall_fraud_rate = unique_df['is_fraud'].mean()\n",
    "\n",
    "print(f\"\\nСравнение:\")\n",
    "print(f\"Высоко-рисковые продавцы: {fraud_rate_high_risk * 100:.4f}%\")\n",
    "print(f\"Низко-рисковые продавцы: {fraud_rate_low_risk * 100:.4f}%\") \n",
    "print(f\"Общая доля мошенничества: {overall_fraud_rate * 100:.4f}%\")\n",
    "\n",
    "# во сколько раз выше риск\n",
    "risk_multiplier = fraud_rate_high_risk / fraud_rate_low_risk if fraud_rate_low_risk > 0 else 0\n",
    "print(f\"\\nВысоко-рисковые продавцы в {risk_multiplier:.2f} раз опаснее\")"
   ]
  },
  {
   "cell_type": "code",
   "execution_count": null,
   "id": "72f5440e",
   "metadata": {},
   "outputs": [
    {
     "name": "stdout",
     "output_type": "stream",
     "text": [
      "\n",
      "Детальная сводка по типам продавцов:\n"
     ]
    },
    {
     "data": {
      "text/html": [
       "<div>\n",
       "<style scoped>\n",
       "    .dataframe tbody tr th:only-of-type {\n",
       "        vertical-align: middle;\n",
       "    }\n",
       "\n",
       "    .dataframe tbody tr th {\n",
       "        vertical-align: top;\n",
       "    }\n",
       "\n",
       "    .dataframe thead th {\n",
       "        text-align: right;\n",
       "    }\n",
       "</style>\n",
       "<table border=\"1\" class=\"dataframe\">\n",
       "  <thead>\n",
       "    <tr style=\"text-align: right;\">\n",
       "      <th></th>\n",
       "      <th>total_transactions</th>\n",
       "      <th>fraud_transactions</th>\n",
       "      <th>fraud_rate</th>\n",
       "      <th>fraud_percentage</th>\n",
       "    </tr>\n",
       "    <tr>\n",
       "      <th>is_high_risk_vendor</th>\n",
       "      <th></th>\n",
       "      <th></th>\n",
       "      <th></th>\n",
       "      <th></th>\n",
       "    </tr>\n",
       "  </thead>\n",
       "  <tbody>\n",
       "    <tr>\n",
       "      <th>False</th>\n",
       "      <td>5606898</td>\n",
       "      <td>1119364</td>\n",
       "      <td>0.199641</td>\n",
       "      <td>19.9641</td>\n",
       "    </tr>\n",
       "    <tr>\n",
       "      <th>True</th>\n",
       "      <td>1870408</td>\n",
       "      <td>374082</td>\n",
       "      <td>0.200000</td>\n",
       "      <td>20.0000</td>\n",
       "    </tr>\n",
       "  </tbody>\n",
       "</table>\n",
       "</div>"
      ],
      "text/plain": [
       "                     total_transactions  fraud_transactions  fraud_rate  \\\n",
       "is_high_risk_vendor                                                       \n",
       "False                           5606898             1119364    0.199641   \n",
       "True                            1870408              374082    0.200000   \n",
       "\n",
       "                     fraud_percentage  \n",
       "is_high_risk_vendor                    \n",
       "False                         19.9641  \n",
       "True                          20.0000  "
      ]
     },
     "execution_count": 66,
     "metadata": {},
     "output_type": "execute_result"
    }
   ],
   "source": [
    "# создаем сводную таблицу\n",
    "risk_analysis = unique_df.groupby('is_high_risk_vendor')['is_fraud'].agg([\n",
    "    'count', # общее количество транзакций\n",
    "    'sum',  # количество мошеннических\n",
    "    'mean' # доля мошеннических\n",
    "]).round(6)\n",
    "\n",
    "risk_analysis.columns = ['total_transactions', 'fraud_transactions', 'fraud_rate']\n",
    "risk_analysis['fraud_percentage'] = risk_analysis['fraud_rate'] * 100\n",
    "\n",
    "print(\"\\nДетальная сводка по типам продавцов:\")\n",
    "risk_analysis"
   ]
  },
  {
   "cell_type": "code",
   "execution_count": 67,
   "id": "28905a54",
   "metadata": {},
   "outputs": [
    {
     "name": "stdout",
     "output_type": "stream",
     "text": [
      "\n",
      "Распределение продавцов по риску:\n",
      "is_high_risk_vendor\n",
      "False    5606898\n",
      "True     1870408\n",
      "Name: count, dtype: int64\n",
      "Доля высоко-рисковых продавцов: 25.01%\n"
     ]
    }
   ],
   "source": [
    "# статистическая значимость различий:\n",
    "# проверяем распределение\n",
    "print(f\"\\nРаспределение продавцов по риску:\")\n",
    "vendor_risk_dist = unique_df['is_high_risk_vendor'].value_counts()\n",
    "print(vendor_risk_dist)\n",
    "print(f\"Доля высоко-рисковых продавцов: {vendor_risk_dist[True] / len(unique_df) * 100:.2f}%\")"
   ]
  },
  {
   "cell_type": "markdown",
   "id": "8c41f671",
   "metadata": {},
   "source": [
    "### В каком городе наибольшая средняя сумма транзакций?"
   ]
  },
  {
   "cell_type": "code",
   "execution_count": 70,
   "id": "88d122a2",
   "metadata": {},
   "outputs": [
    {
     "name": "stdout",
     "output_type": "stream",
     "text": [
      "Топ-10 городов по средней сумме транзакций:\n",
      "              avg_amount  transaction_count  total_amount  median_amount\n",
      "city                                                                    \n",
      "Unknown City    51318.09            6977703  3.580824e+11        1467.67\n",
      "New York          568.86              49754  2.830325e+07         425.08\n",
      "San Antonio       567.99              50031  2.841713e+07         425.27\n",
      "San Jose          567.20              49974  2.834502e+07         423.95\n",
      "Phoenix           565.76              50283  2.844831e+07         421.45\n",
      "San Diego         565.55              50380  2.849229e+07         423.20\n",
      "Chicago           565.24              49853  2.817870e+07         423.41\n",
      "Houston           564.93              49915  2.819840e+07         423.00\n",
      "Los Angeles       563.90              49453  2.788665e+07         424.23\n",
      "Philadelphia      563.50              49870  2.810155e+07         424.92\n",
      "\n",
      "Город с наибольшей средней суммой: Unknown City\n",
      "Средняя сумма: 51,318.09\n"
     ]
    }
   ],
   "source": [
    "# удлаяем дубликаты\n",
    "unique_df = transact_df.drop_duplicates(subset=['transaction_id'])\n",
    "\n",
    "# группируем по городам и считаем статистику\n",
    "city_stats = unique_df.groupby('city')['amount'].agg([\n",
    "    'mean',  # средняя сумма\n",
    "    'count',  # количество транзакций\n",
    "    'sum',  # общая сумма\n",
    "    'median'  # медиана для сравнения\n",
    "]).round(2)\n",
    "\n",
    "city_stats.columns = ['avg_amount', 'transaction_count', 'total_amount', 'median_amount']\n",
    "\n",
    "# сортируем по средней сумме\n",
    "city_stats_sorted = city_stats.sort_values('avg_amount', ascending=False)\n",
    "\n",
    "print(\"Топ-10 городов по средней сумме транзакций:\")\n",
    "print(city_stats_sorted.head(10))\n",
    "\n",
    "print(f\"\\nГород с наибольшей средней суммой: {city_stats_sorted.index[0]}\")\n",
    "print(f\"Средняя сумма: {city_stats_sorted.iloc[0]['avg_amount']:,.2f}\")"
   ]
  },
  {
   "cell_type": "markdown",
   "id": "db42671d",
   "metadata": {},
   "source": [
    "берем New York, так как Unknown City неизвестен"
   ]
  },
  {
   "cell_type": "markdown",
   "id": "d3ce33ca",
   "metadata": {},
   "source": [
    "Дополнительно посмотрим"
   ]
  },
  {
   "cell_type": "code",
   "execution_count": 73,
   "id": "1f35df50",
   "metadata": {},
   "outputs": [
    {
     "name": "stdout",
     "output_type": "stream",
     "text": [
      "\n",
      "Детальная информация о городе New York:\n",
      "Количество транзакций: 49,754\n",
      "Средняя сумма: 568.86\n",
      "Медиана: 425.08\n",
      "Минимум: 0.01\n",
      "Максимум: 14,962.01\n",
      "Стандартное отклонение: 619.72\n"
     ]
    }
   ],
   "source": [
    "# детальный анализ топ-города\n",
    "top_city = city_stats_sorted.index[1]\n",
    "top_city_data = unique_df[unique_df['city'] == top_city]\n",
    "\n",
    "print(f\"\\nДетальная информация о городе {top_city}:\")\n",
    "print(f\"Количество транзакций: {len(top_city_data):,}\")\n",
    "print(f\"Средняя сумма: {top_city_data['amount'].mean():,.2f}\")\n",
    "print(f\"Медиана: {top_city_data['amount'].median():,.2f}\")\n",
    "print(f\"Минимум: {top_city_data['amount'].min():,.2f}\")\n",
    "print(f\"Максимум: {top_city_data['amount'].max():,.2f}\")\n",
    "print(f\"Стандартное отклонение: {top_city_data['amount'].std():,.2f}\")"
   ]
  },
  {
   "cell_type": "code",
   "execution_count": 75,
   "id": "f3e32240",
   "metadata": {},
   "outputs": [
    {
     "name": "stdout",
     "output_type": "stream",
     "text": [
      "\n",
      "Сравнение:\n",
      "Средняя сумма в New York: 51,318.09\n",
      "Общая средняя сумма: 47,927.01\n",
      "Разница: в 1.07 выше среднего\n"
     ]
    }
   ],
   "source": [
    "# сравнение с общей статистикой\n",
    "overall_avg = unique_df['amount'].mean()\n",
    "print(f\"\\nСравнение:\")\n",
    "print(f\"Средняя сумма в {top_city}: {city_stats_sorted.iloc[0]['avg_amount']:,.2f}\")\n",
    "print(f\"Общая средняя сумма: {overall_avg:,.2f}\")\n",
    "print(f\"Разница: в {city_stats_sorted.iloc[0]['avg_amount'] / overall_avg:.2f} выше среднего\")"
   ]
  },
  {
   "cell_type": "code",
   "execution_count": 76,
   "id": "1d9f8211",
   "metadata": {},
   "outputs": [
    {
     "name": "stdout",
     "output_type": "stream",
     "text": [
      "\n",
      "Статистика по размерам городов:\n",
      "               mean    count   median\n",
      "city_size                            \n",
      "large        565.73   198975   423.91\n",
      "medium     49221.77  7278331  1276.85\n",
      "\n",
      "Размер топ-города (New York): large\n"
     ]
    }
   ],
   "source": [
    "# анализ по размеру города\n",
    "# смотрим как связан размер города со средней суммой\n",
    "city_size_analysis = unique_df.groupby(['city_size'])['amount'].agg([\n",
    "    'mean', 'count', 'median'\n",
    "]).round(2)\n",
    "\n",
    "print(f\"\\nСтатистика по размерам городов:\")\n",
    "print(city_size_analysis)\n",
    "\n",
    "# анализ для топ-города\n",
    "top_city_size = unique_df[unique_df['city'] == top_city]['city_size'].iloc[0]\n",
    "print(f\"\\nРазмер топ-города ({top_city}): {top_city_size}\")"
   ]
  },
  {
   "cell_type": "code",
   "execution_count": 78,
   "id": "9e666ba8",
   "metadata": {},
   "outputs": [
    {
     "name": "stdout",
     "output_type": "stream",
     "text": [
      "\n",
      "Распределение сумм в топ-городе (New York):\n",
      "count    49754.000000\n",
      "mean       568.863799\n",
      "std        619.715501\n",
      "min          0.010000\n",
      "25%        250.122500\n",
      "50%        425.080000\n",
      "75%        635.680000\n",
      "max      14962.010000\n",
      "Name: amount, dtype: float64\n",
      "\n",
      "Топ-5 крупнейших транзакций в New York:\n",
      "           amount       vendor  is_fraud\n",
      "1784488  14962.01      Expedia      True\n",
      "5694400  14756.29       Airbnb      True\n",
      "4368239  14691.75       Airbnb      True\n",
      "3451916  14179.13      Expedia      True\n",
      "244257   13885.84  Booking.com      True\n"
     ]
    }
   ],
   "source": [
    "# проверка на выбросы\n",
    "# проверяем, не искажают ли результат очень большие транзакции\n",
    "print(f\"\\nРаспределение сумм в топ-городе ({top_city}):\")\n",
    "amount_distribution = top_city_data['amount'].describe()\n",
    "print(amount_distribution)\n",
    "\n",
    "# топ-5 самых больших транзакций в этом городе\n",
    "print(f\"\\nТоп-5 крупнейших транзакций в {top_city}:\")\n",
    "top_transactions = top_city_data.nlargest(5, 'amount')[['amount', 'vendor', 'is_fraud']]\n",
    "print(top_transactions)"
   ]
  },
  {
   "cell_type": "code",
   "execution_count": 79,
   "id": "fa0f5962",
   "metadata": {},
   "outputs": [
    {
     "name": "stdout",
     "output_type": "stream",
     "text": [
      "\n",
      "Топ-5 городов по общему обороту:\n",
      "              avg_amount  transaction_count  total_amount\n",
      "city                                                     \n",
      "Unknown City    51318.09            6977703  3.580824e+11\n",
      "San Diego         565.55              50380  2.849229e+07\n",
      "Phoenix           565.76              50283  2.844831e+07\n",
      "San Antonio       567.99              50031  2.841713e+07\n",
      "San Jose          567.20              49974  2.834502e+07\n"
     ]
    }
   ],
   "source": [
    "# дополнтельно - города с наибольними оборотом\n",
    "print(f\"\\nТоп-5 городов по общему обороту:\")\n",
    "top_turnover = city_stats_sorted.sort_values('total_amount', ascending=False).head(5)\n",
    "print(top_turnover[['avg_amount', 'transaction_count', 'total_amount']])"
   ]
  },
  {
   "cell_type": "markdown",
   "id": "ca26a00c",
   "metadata": {},
   "source": [
    "### В каком городе выше всего средний чек по операциям, связанным с fast_food?"
   ]
  },
  {
   "cell_type": "code",
   "execution_count": 80,
   "id": "8a686213",
   "metadata": {},
   "outputs": [
    {
     "name": "stdout",
     "output_type": "stream",
     "text": [
      "Уникальные категории продавцов:\n",
      "['Restaurant' 'Entertainment' 'Grocery' 'Gas' 'Healthcare' 'Education'\n",
      " 'Travel' 'Retail']\n",
      "\n",
      "Уникальные типы продавцов:\n",
      "['fast_food' 'gaming' 'physical' 'major' 'medical' 'online' 'hotels'\n",
      " 'pharmacy' 'premium' 'events' 'supplies' 'airlines' 'local' 'booking'\n",
      " 'streaming' 'transport' 'casual']\n"
     ]
    }
   ],
   "source": [
    "unique_df = transact_df.drop_duplicates(subset=['transaction_id'])\n",
    "\n",
    "print(\"Уникальные категории продавцов:\")\n",
    "print(unique_df['vendor_category'].unique())\n",
    "\n",
    "print(\"\\nУникальные типы продавцов:\")\n",
    "print(unique_df['vendor_type'].unique())"
   ]
  },
  {
   "cell_type": "markdown",
   "id": "085a9b67",
   "metadata": {},
   "source": [
    "значит берем vendor_type"
   ]
  },
  {
   "cell_type": "code",
   "execution_count": 83,
   "id": "f0c91505",
   "metadata": {},
   "outputs": [
    {
     "name": "stdout",
     "output_type": "stream",
     "text": [
      "Найдено транзакций fast_food: 312,504\n",
      "\n",
      "Топ-10 городов по среднему чеку в fast_food:\n",
      "              avg_check  transactions  total_amount  median_check   std_dev\n",
      "city                                                                       \n",
      "Unknown City   15213.20        291843  4.439866e+09        577.42  56676.92\n",
      "Chicago          264.61          2027  5.363657e+05        124.88    354.92\n",
      "New York         263.30          2054  5.408109e+05        121.18    355.45\n",
      "San Antonio      258.17          2104  5.431890e+05        119.72    344.63\n",
      "Los Angeles      255.93          2095  5.361809e+05        124.54    349.19\n",
      "San Diego        253.38          2046  5.184101e+05        123.25    339.55\n",
      "Dallas           248.96          2082  5.183387e+05        118.96    342.57\n",
      "San Jose         248.06          2016  5.000860e+05        119.76    327.73\n",
      "Houston          247.02          2088  5.157808e+05        124.36    334.46\n",
      "Philadelphia     243.52          2031  4.945869e+05        118.57    330.94\n",
      "\n",
      "Город с наибольшим средним чеком: Unknown City\n",
      "Средний чек: 15,213.20\n"
     ]
    }
   ],
   "source": [
    "# удаляем дубликаты\n",
    "unique_df = transact_df.drop_duplicates(subset=['transaction_id'])\n",
    "\n",
    "# фильтруем транзакции fast_food\n",
    "fast_food_transactions = unique_df[unique_df['vendor_type'] == 'fast_food']\n",
    "\n",
    "print(f\"Найдено транзакций fast_food: {len(fast_food_transactions):,}\")\n",
    "\n",
    "# группируем по городам и считаем статистику\n",
    "fast_food_by_city = fast_food_transactions.groupby('city')['amount'].agg([\n",
    "    'mean',  # средний чек\n",
    "    'count',  # количество транзакций\n",
    "    'sum',  # общий оборот\n",
    "    'median',  # медиана\n",
    "    'std'  # стандартное отклонение\n",
    "]).round(2)\n",
    "\n",
    "fast_food_by_city.columns = ['avg_check', 'transactions', 'total_amount', 'median_check', 'std_dev']\n",
    "\n",
    "# сортируем по среднему чеку\n",
    "fast_food_sorted = fast_food_by_city.sort_values('avg_check', ascending=False)\n",
    "\n",
    "print(\"\\nТоп-10 городов по среднему чеку в fast_food:\")\n",
    "print(fast_food_sorted.head(10))\n",
    "\n",
    "print(f\"\\nГород с наибольшим средним чеком: {fast_food_sorted.index[0]}\")\n",
    "print(f\"Средний чек: {fast_food_sorted.iloc[0]['avg_check']:,.2f}\")"
   ]
  },
  {
   "cell_type": "markdown",
   "id": "8893b12e",
   "metadata": {},
   "source": [
    "тут снова Unknown City на 1 месте. Берем известный город Chicago          "
   ]
  },
  {
   "cell_type": "code",
   "execution_count": 90,
   "id": "a14ba09c",
   "metadata": {},
   "outputs": [
    {
     "name": "stdout",
     "output_type": "stream",
     "text": [
      "\n",
      "Детальная информация о fast_food в городе Chicago:\n",
      "\n",
      "Количество транзакций: 2,027\n",
      "Средний чек: 264.61\n",
      "Медиана чека: 124.88\n",
      "Минимальный чек: 0.29\n",
      "Максимальный чек: 2,383.78\n",
      "Стандартное отклонение: 354.92\n",
      "\n",
      "Топ-5 fast_food заведений в Chicago:\n",
      "\n",
      "KFC: 368 транзакций, средний чек 252.18\n",
      "Wendy's: 339 транзакций, средний чек 246.84\n",
      "Taco Bell: 337 транзакций, средний чек 274.99\n",
      "Subway: 332 транзакций, средний чек 245.74\n",
      "McDonald's: 330 транзакций, средний чек 288.63\n"
     ]
    }
   ],
   "source": [
    "# дополнительно\n",
    "# детальный анализ топ-города:\n",
    "top_city = fast_food_sorted.index[1]\n",
    "top_city_fast_food = fast_food_transactions[fast_food_transactions['city'] == top_city]\n",
    "\n",
    "print(f\"\\nДетальная информация о fast_food в городе {top_city}:\\n\")\n",
    "print(f\"Количество транзакций: {len(top_city_fast_food):,}\")\n",
    "print(f\"Средний чек: {top_city_fast_food['amount'].mean():,.2f}\")\n",
    "print(f\"Медиана чека: {top_city_fast_food['amount'].median():,.2f}\")\n",
    "print(f\"Минимальный чек: {top_city_fast_food['amount'].min():,.2f}\")\n",
    "print(f\"Максимальный чек: {top_city_fast_food['amount'].max():,.2f}\")\n",
    "print(f\"Стандартное отклонение: {top_city_fast_food['amount'].std():,.2f}\")\n",
    "\n",
    "# топ fast_food заведений в этом городе\n",
    "print(f\"\\nТоп-5 fast_food заведений в {top_city}:\\n\")\n",
    "top_vendors = top_city_fast_food['vendor'].value_counts().head(5)\n",
    "for vendor, count in top_vendors.items():\n",
    "    avg_check_vendor = top_city_fast_food[top_city_fast_food['vendor'] == vendor]['amount'].mean()\n",
    "    print(f\"{vendor}: {count} транзакций, средний чек {avg_check_vendor:.2f}\")"
   ]
  },
  {
   "cell_type": "code",
   "execution_count": 92,
   "id": "ce58e220",
   "metadata": {},
   "outputs": [
    {
     "name": "stdout",
     "output_type": "stream",
     "text": [
      "\n",
      "Сравнение:\n",
      "Fast_food средний чек в Chicago: 15,213.20\n",
      "Общий средний чек fast_food: 14,224.08\n",
      "Все категории в Chicago: 565.24\n",
      "Fast_food выше общего в 1.07 раз\n"
     ]
    }
   ],
   "source": [
    "# общая статистика по fast_food\n",
    "overall_fast_food_avg = fast_food_transactions['amount'].mean()\n",
    "\n",
    "# средний чек всех категорий в топ-городе\n",
    "top_city_all_transactions = unique_df[unique_df['city'] == top_city]\n",
    "top_city_overall_avg = top_city_all_transactions['amount'].mean()\n",
    "\n",
    "print(f\"\\nСравнение:\")\n",
    "print(f\"Fast_food средний чек в {top_city}: {fast_food_sorted.iloc[0]['avg_check']:,.2f}\")\n",
    "print(f\"Общий средний чек fast_food: {overall_fast_food_avg:,.2f}\")\n",
    "print(f\"Все категории в {top_city}: {top_city_overall_avg:,.2f}\")\n",
    "print(f\"Fast_food выше общего в {fast_food_sorted.iloc[0]['avg_check'] / overall_fast_food_avg:.2f} раз\")"
   ]
  },
  {
   "cell_type": "code",
   "execution_count": 94,
   "id": "04d5726f",
   "metadata": {},
   "outputs": [
    {
     "name": "stdout",
     "output_type": "stream",
     "text": [
      "\n",
      "Размер города Chicago: large\n",
      "\n",
      "Средний чек fast_food по размеру города:\n",
      "               mean   count  median\n",
      "city_size                          \n",
      "large        257.64    8264  123.68\n",
      "medium     14603.45  304240  511.76\n"
     ]
    }
   ],
   "source": [
    "# Анализ по размеру города:\n",
    "# связь размера города с средним чеком fast_food\n",
    "# размер топ-города\n",
    "top_city_size = unique_df[unique_df['city'] == top_city]['city_size'].iloc[0]\n",
    "print(f\"\\nРазмер города {top_city}: {top_city_size}\")\n",
    "\n",
    "fast_food_by_size = fast_food_transactions.groupby('city_size')['amount'].agg([\n",
    "    'mean', 'count', 'median'\n",
    "]).round(2)\n",
    "\n",
    "print(f\"\\nСредний чек fast_food по размеру города:\")\n",
    "print(fast_food_by_size)\n"
   ]
  },
  {
   "cell_type": "code",
   "execution_count": 95,
   "id": "eb76b1e0",
   "metadata": {},
   "outputs": [
    {
     "name": "stdout",
     "output_type": "stream",
     "text": [
      "\n",
      "Распределение чеков fast_food в Chicago:\n",
      "count    2027.000000\n",
      "mean      264.610627\n",
      "std       354.924171\n",
      "min         0.290000\n",
      "25%        60.935000\n",
      "50%       124.880000\n",
      "75%       296.825000\n",
      "max      2383.780000\n",
      "Name: amount, dtype: float64\n",
      "\n",
      "Топ-5 крупнейших чеков fast_food в Chicago:\n",
      "          amount       vendor  is_fraud\n",
      "6469048  2383.78    Taco Bell     False\n",
      "4310970  2317.44  Burger King     False\n",
      "353698   2207.16      Wendy's     False\n",
      "4522766  2136.08      Wendy's     False\n",
      "5778148  2098.41   McDonald's     False\n",
      "\n",
      "Доля мошенничества в fast_food (Chicago): 6.96%\n"
     ]
    }
   ],
   "source": [
    "# Проверка на выбросы:\n",
    "# проверяем распределение чеков в топ-городе\n",
    "print(f\"\\nРаспределение чеков fast_food в {top_city}:\")\n",
    "print(top_city_fast_food['amount'].describe())\n",
    "\n",
    "# проверяем, не искажают ли крупные транзакции результат\n",
    "print(f\"\\nТоп-5 крупнейших чеков fast_food в {top_city}:\")\n",
    "largest_checks = top_city_fast_food.nlargest(5, 'amount')[['amount', 'vendor', 'is_fraud']]\n",
    "print(largest_checks)\n",
    "\n",
    "# доля мошенничества в fast_food этого города\n",
    "fraud_rate = top_city_fast_food['is_fraud'].mean() * 100\n",
    "print(f\"\\nДоля мошенничества в fast_food ({top_city}): {fraud_rate:.2f}%\")"
   ]
  },
  {
   "cell_type": "code",
   "execution_count": 96,
   "id": "28d1590a",
   "metadata": {},
   "outputs": [
    {
     "name": "stdout",
     "output_type": "stream",
     "text": [
      "\n",
      "Топ-5 городов по общему обороту fast_food:\n",
      "              avg_check  transactions  total_amount\n",
      "city                                               \n",
      "Unknown City   15213.20        291843  4.439866e+09\n",
      "San Antonio      258.17          2104  5.431890e+05\n",
      "New York         263.30          2054  5.408109e+05\n",
      "Chicago          264.61          2027  5.363657e+05\n",
      "Los Angeles      255.93          2095  5.361809e+05\n"
     ]
    }
   ],
   "source": [
    "# города с наибольшим оборотом fast_food:\n",
    "print(f\"\\nТоп-5 городов по общему обороту fast_food:\")\n",
    "top_turnover = fast_food_sorted.sort_values('total_amount', ascending=False).head(5)\n",
    "print(top_turnover[['avg_check', 'transactions', 'total_amount']])"
   ]
  },
  {
   "cell_type": "markdown",
   "id": "07945493",
   "metadata": {},
   "source": [
    "### Каково среднее для всех немошеннических операций при пересчете в доллары США?"
   ]
  },
  {
   "cell_type": "code",
   "execution_count": 100,
   "id": "a4cefef1",
   "metadata": {},
   "outputs": [
    {
     "data": {
      "text/plain": [
       "Index(['transaction_id', 'customer_id', 'card_number', 'timestamp',\n",
       "       'vendor_category', 'vendor_type', 'vendor', 'amount', 'currency',\n",
       "       'country', 'city', 'city_size', 'card_type', 'is_card_present',\n",
       "       'device', 'channel', 'device_fingerprint', 'ip_address',\n",
       "       'is_outside_home_country', 'is_high_risk_vendor', 'is_weekend',\n",
       "       'is_fraud', 'last_hour_activity.num_transactions',\n",
       "       'last_hour_activity.total_amount',\n",
       "       'last_hour_activity.unique_merchants',\n",
       "       'last_hour_activity.unique_countries',\n",
       "       'last_hour_activity.max_single_amount'],\n",
       "      dtype='object')"
      ]
     },
     "execution_count": 100,
     "metadata": {},
     "output_type": "execute_result"
    }
   ],
   "source": [
    "transact_df.columns"
   ]
  },
  {
   "cell_type": "code",
   "execution_count": 101,
   "id": "e120e6cf",
   "metadata": {},
   "outputs": [
    {
     "name": "stdout",
     "output_type": "stream",
     "text": [
      "Валюты в транзакциях:\n",
      "currency\n",
      "EUR    1064830\n",
      "NGN     849115\n",
      "BRL     804119\n",
      "RUB     793077\n",
      "MXN     785019\n",
      "SGD     588147\n",
      "GBP     538040\n",
      "CAD     532201\n",
      "JPY     526927\n",
      "USD     499603\n",
      "AUD     496228\n",
      "Name: count, dtype: int64\n",
      "\n",
      "Диапазон дат в транзакциях:\n",
      "От: 2024-09-30 00:00:01.034820\n",
      "До: 2024-10-30 23:59:59.101885\n"
     ]
    }
   ],
   "source": [
    "# Исследуем валюты в транзакциях:\n",
    "# используем уникальные транзакции\n",
    "unique_df = transact_df.drop_duplicates(subset=['transaction_id'])\n",
    "\n",
    "print(\"Валюты в транзакциях:\")\n",
    "print(unique_df['currency'].value_counts())\n",
    "currency_field = 'currency'\n",
    "\n",
    "print(f\"\\nДиапазон дат в транзакциях:\")\n",
    "print(f\"От: {unique_df['timestamp'].min()}\")\n",
    "print(f\"До: {unique_df['timestamp'].max()}\")"
   ]
  },
  {
   "cell_type": "code",
   "execution_count": 102,
   "id": "a954eb8b",
   "metadata": {},
   "outputs": [
    {
     "data": {
      "text/html": [
       "<div>\n",
       "<style scoped>\n",
       "    .dataframe tbody tr th:only-of-type {\n",
       "        vertical-align: middle;\n",
       "    }\n",
       "\n",
       "    .dataframe tbody tr th {\n",
       "        vertical-align: top;\n",
       "    }\n",
       "\n",
       "    .dataframe thead th {\n",
       "        text-align: right;\n",
       "    }\n",
       "</style>\n",
       "<table border=\"1\" class=\"dataframe\">\n",
       "  <thead>\n",
       "    <tr style=\"text-align: right;\">\n",
       "      <th></th>\n",
       "      <th>date</th>\n",
       "      <th>AUD</th>\n",
       "      <th>BRL</th>\n",
       "      <th>CAD</th>\n",
       "      <th>EUR</th>\n",
       "      <th>GBP</th>\n",
       "      <th>JPY</th>\n",
       "      <th>MXN</th>\n",
       "      <th>NGN</th>\n",
       "      <th>RUB</th>\n",
       "      <th>SGD</th>\n",
       "      <th>USD</th>\n",
       "    </tr>\n",
       "  </thead>\n",
       "  <tbody>\n",
       "    <tr>\n",
       "      <th>0</th>\n",
       "      <td>2024-09-30</td>\n",
       "      <td>1.443654</td>\n",
       "      <td>5.434649</td>\n",
       "      <td>1.351196</td>\n",
       "      <td>0.895591</td>\n",
       "      <td>0.747153</td>\n",
       "      <td>142.573268</td>\n",
       "      <td>19.694724</td>\n",
       "      <td>1668.736400</td>\n",
       "      <td>94.133735</td>\n",
       "      <td>1.280156</td>\n",
       "      <td>1</td>\n",
       "    </tr>\n",
       "    <tr>\n",
       "      <th>1</th>\n",
       "      <td>2024-10-01</td>\n",
       "      <td>1.442917</td>\n",
       "      <td>5.444170</td>\n",
       "      <td>1.352168</td>\n",
       "      <td>0.897557</td>\n",
       "      <td>0.746956</td>\n",
       "      <td>143.831429</td>\n",
       "      <td>19.667561</td>\n",
       "      <td>1670.694524</td>\n",
       "      <td>92.898519</td>\n",
       "      <td>1.284352</td>\n",
       "      <td>1</td>\n",
       "    </tr>\n",
       "    <tr>\n",
       "      <th>2</th>\n",
       "      <td>2024-10-02</td>\n",
       "      <td>1.449505</td>\n",
       "      <td>5.425444</td>\n",
       "      <td>1.348063</td>\n",
       "      <td>0.903056</td>\n",
       "      <td>0.752241</td>\n",
       "      <td>143.806861</td>\n",
       "      <td>19.606748</td>\n",
       "      <td>1669.653006</td>\n",
       "      <td>94.583198</td>\n",
       "      <td>1.286983</td>\n",
       "      <td>1</td>\n",
       "    </tr>\n",
       "  </tbody>\n",
       "</table>\n",
       "</div>"
      ],
      "text/plain": [
       "        date       AUD       BRL       CAD       EUR       GBP         JPY  \\\n",
       "0 2024-09-30  1.443654  5.434649  1.351196  0.895591  0.747153  142.573268   \n",
       "1 2024-10-01  1.442917  5.444170  1.352168  0.897557  0.746956  143.831429   \n",
       "2 2024-10-02  1.449505  5.425444  1.348063  0.903056  0.752241  143.806861   \n",
       "\n",
       "         MXN          NGN        RUB       SGD  USD  \n",
       "0  19.694724  1668.736400  94.133735  1.280156    1  \n",
       "1  19.667561  1670.694524  92.898519  1.284352    1  \n",
       "2  19.606748  1669.653006  94.583198  1.286983    1  "
      ]
     },
     "execution_count": 102,
     "metadata": {},
     "output_type": "execute_result"
    }
   ],
   "source": [
    "currency_df.head(3)"
   ]
  },
  {
   "cell_type": "code",
   "execution_count": 103,
   "id": "74cbdd36",
   "metadata": {},
   "outputs": [
    {
     "name": "stdout",
     "output_type": "stream",
     "text": [
      "Структура курсов в long формате:\n",
      "        date currency  usd_rate\n",
      "0 2024-09-30      AUD  1.443654\n",
      "1 2024-10-01      AUD  1.442917\n",
      "2 2024-10-02      AUD  1.449505\n",
      "3 2024-10-03      AUD  1.456279\n",
      "4 2024-10-04      AUD  1.460930\n",
      "\n",
      "Всего записей курсов: 341\n"
     ]
    }
   ],
   "source": [
    "# Подготавливаем данные курсов для соединения:\n",
    "# преобразуем wide формат в long для удобства соединения\n",
    "currency_long = currency_df.melt(\n",
    "    id_vars=['date'], \n",
    "    var_name='currency', \n",
    "    value_name='usd_rate'\n",
    ")\n",
    "\n",
    "print(\"Структура курсов в long формате:\")\n",
    "print(currency_long.head())\n",
    "print(f\"\\nВсего записей курсов: {len(currency_long)}\")"
   ]
  },
  {
   "cell_type": "code",
   "execution_count": 104,
   "id": "01fd2f32",
   "metadata": {},
   "outputs": [
    {
     "name": "stdout",
     "output_type": "stream",
     "text": [
      "Транзакций после соединения: 7477306\n",
      "Транзакций без курса: 0\n"
     ]
    }
   ],
   "source": [
    "# Соединяем транзакции с курсами:\n",
    "# подготавливаем дату для соединения (без времени)\n",
    "unique_df = unique_df.copy()\n",
    "unique_df['date_only'] = unique_df['timestamp'].dt.date\n",
    "\n",
    "currency_long = currency_long.copy()  \n",
    "currency_long['date_only'] = currency_long['date'].dt.date\n",
    "\n",
    "# соединяем по дате и валюте\n",
    "merged_df = pd.merge(\n",
    "    unique_df,\n",
    "    currency_long,\n",
    "    left_on=['date_only', currency_field],\n",
    "    right_on=['date_only', 'currency'],\n",
    "    how='left'\n",
    ")\n",
    "\n",
    "print(f\"Транзакций после соединения: {len(merged_df)}\")\n",
    "print(f\"Транзакций без курса: {merged_df['usd_rate'].isna().sum()}\")"
   ]
  },
  {
   "cell_type": "code",
   "execution_count": 105,
   "id": "a5db41c2",
   "metadata": {},
   "outputs": [
    {
     "name": "stdout",
     "output_type": "stream",
     "text": [
      "Немошеннических транзакций: 5983860\n",
      "Успешно конвертировано транзакций: 5983860\n",
      "\n",
      "Среднее немошеннических операций в USD: 459.79\n"
     ]
    }
   ],
   "source": [
    "# Рассчитываем точные суммы в USD:\n",
    "# фильтруем немошеннические транзакции\n",
    "non_fraud_merged = merged_df[merged_df['is_fraud'] == False].copy()\n",
    "\n",
    "print(f\"Немошеннических транзакций: {len(non_fraud_merged)}\")\n",
    "\n",
    "# конвертируем в USD\n",
    "# если валюта USD, то курс = 1, сумма остается той же\n",
    "# если другая валюта, то amount_usd = amount / usd_rate\n",
    "# (так как usd_rate показывает сколько единиц валюты за 1 USD)\n",
    "\n",
    "non_fraud_merged['amount_usd'] = non_fraud_merged.apply(\n",
    "    lambda row: row['amount'] if row[currency_field] == 'USD' \n",
    "    else row['amount'] / row['usd_rate'] if pd.notna(row['usd_rate']) and row['usd_rate'] != 0\n",
    "    else None, axis=1\n",
    ")\n",
    "\n",
    "# убираем строки где не удалось конвертировать\n",
    "valid_conversions = non_fraud_merged['amount_usd'].notna()\n",
    "non_fraud_usd = non_fraud_merged[valid_conversions]\n",
    "\n",
    "print(f\"Успешно конвертировано транзакций: {len(non_fraud_usd)}\")\n",
    "\n",
    "# считаем среднее\n",
    "avg_usd = non_fraud_usd['amount_usd'].mean()\n",
    "\n",
    "print(f\"\\nСреднее немошеннических операций в USD: {avg_usd:.2f}\")"
   ]
  },
  {
   "cell_type": "code",
   "execution_count": 106,
   "id": "bb19e8d1",
   "metadata": {},
   "outputs": [
    {
     "name": "stdout",
     "output_type": "stream",
     "text": [
      "\n",
      "Подробная статистика немошеннических операций в USD:\n",
      "count    5983860.00\n",
      "mean         459.79\n",
      "std          417.02\n",
      "min            6.23\n",
      "25%          192.31\n",
      "50%          354.54\n",
      "75%          528.78\n",
      "max         3170.58\n",
      "Name: amount_usd, dtype: float64\n",
      "\n",
      "Дополнительно:\n",
      "Медиана: 354.54\n",
      "Общая сумма: 2,751,326,692.25\n",
      "Стандартное отклонение: 417.02\n"
     ]
    }
   ],
   "source": [
    "# Подробная статистика:\n",
    "print(\"\\nПодробная статистика немошеннических операций в USD:\")\n",
    "usd_stats = non_fraud_usd['amount_usd'].describe()\n",
    "print(usd_stats.round(2))\n",
    "\n",
    "print(f\"\\nДополнительно:\")\n",
    "print(f\"Медиана: {non_fraud_usd['amount_usd'].median():.2f}\")\n",
    "print(f\"Общая сумма: {non_fraud_usd['amount_usd'].sum():,.2f}\")\n",
    "print(f\"Стандартное отклонение: {non_fraud_usd['amount_usd'].std():.2f}\")"
   ]
  },
  {
   "cell_type": "code",
   "execution_count": 107,
   "id": "0bfabd40",
   "metadata": {},
   "outputs": [
    {
     "name": "stdout",
     "output_type": "stream",
     "text": [
      "\n",
      "Статистика по валютам (немошеннические в USD):\n",
      "          transactions  avg_usd     total_usd  median_usd\n",
      "currency                                                 \n",
      "SGD             550771   578.67  3.187120e+08      443.34\n",
      "MXN             486440   539.41  2.623929e+08      423.75\n",
      "USD             462327   520.27  2.405335e+08      419.92\n",
      "GBP             500728   511.50  2.561239e+08      400.12\n",
      "EUR             990268   499.73  4.948682e+08      389.11\n",
      "AUD             458610   491.80  2.255461e+08      378.81\n",
      "BRL             505738   480.78  2.431483e+08      373.43\n",
      "CAD             494960   467.41  2.313514e+08      363.70\n",
      "RUB             493901   414.19  2.045692e+08      324.53\n",
      "JPY             489360   406.61  1.989794e+08      310.17\n",
      "NGN             550757   136.36  7.510167e+07      106.36\n",
      "\n",
      "Примеры конвертации (первые 5 строк):\n",
      "      amount currency  usd_rate  amount_usd\n",
      "0     294.87      GBP    0.7472    394.6580\n",
      "2  102582.38      JPY  142.5733    719.5064\n",
      "3     630.60      AUD    1.4437    436.8083\n",
      "6    2606.19      BRL    5.4346    479.5508\n",
      "7     828.33      EUR    0.8956    924.8979\n"
     ]
    }
   ],
   "source": [
    "# Анализ по валютам:\n",
    "# статистика по валютам\n",
    "currency_stats = non_fraud_usd.groupby(currency_field)['amount_usd'].agg([\n",
    "    'count', 'mean', 'sum', 'median'\n",
    "]).round(2)\n",
    "\n",
    "currency_stats.columns = ['transactions', 'avg_usd', 'total_usd', 'median_usd']\n",
    "\n",
    "print(f\"\\nСтатистика по валютам (немошеннические в USD):\")\n",
    "print(currency_stats.sort_values('avg_usd', ascending=False))\n",
    "\n",
    "# показываем примеры конвертации\n",
    "print(f\"\\nПримеры конвертации (первые 5 строк):\")\n",
    "examples = non_fraud_usd[['amount', currency_field, 'usd_rate', 'amount_usd']].head()\n",
    "print(examples.round(4))"
   ]
  },
  {
   "cell_type": "code",
   "execution_count": 108,
   "id": "e2df5b32",
   "metadata": {},
   "outputs": [
    {
     "name": "stdout",
     "output_type": "stream",
     "text": [
      "\n",
      "Проверка USD транзакций - максимальная разница: 0.0\n",
      "\n",
      "Проверка курсов:\n",
      "GBP: средний курс 0.7648\n",
      "JPY: средний курс 149.3144\n",
      "AUD: средний курс 1.4864\n",
      "BRL: средний курс 5.5995\n",
      "EUR: средний курс 0.9162\n",
      "NGN: средний курс 1640.0212\n",
      "RUB: средний курс 96.0035\n",
      "CAD: средний курс 1.3733\n",
      "SGD: средний курс 1.3080\n",
      "MXN: средний курс 19.6498\n"
     ]
    }
   ],
   "source": [
    "# Проверка корректности:\n",
    "# проверяем что USD транзакции не изменились\n",
    "usd_transactions = non_fraud_usd[non_fraud_usd[currency_field] == 'USD']\n",
    "if len(usd_transactions) > 0:\n",
    "    usd_diff = (usd_transactions['amount'] - usd_transactions['amount_usd']).abs().max()\n",
    "    print(f\"\\nПроверка USD транзакций - максимальная разница: {usd_diff}\")\n",
    "\n",
    "# проверяем разумность курсов\n",
    "print(f\"\\nПроверка курсов:\")\n",
    "for curr in non_fraud_usd[currency_field].unique():\n",
    "    if curr != 'USD':\n",
    "        curr_data = non_fraud_usd[non_fraud_usd[currency_field] == curr]\n",
    "        if len(curr_data) > 0:\n",
    "            avg_rate = curr_data['usd_rate'].mean()\n",
    "            print(f\"{curr}: средний курс {avg_rate:.4f}\")"
   ]
  },
  {
   "cell_type": "markdown",
   "id": "80460bd3",
   "metadata": {},
   "source": [
    "### Каково среднеквадратичное отклонение среди всех немошеннических операций при пересчете в доллары США?"
   ]
  },
  {
   "cell_type": "code",
   "execution_count": 111,
   "id": "d2c0d8c3",
   "metadata": {},
   "outputs": [
    {
     "name": "stdout",
     "output_type": "stream",
     "text": [
      "Соединено транзакций: 7477306\n"
     ]
    }
   ],
   "source": [
    "# Подготовка данных и конвертация в USD:\n",
    "# используем уникальные транзакции\n",
    "unique_df = transact_df.drop_duplicates(subset=['transaction_id'])\n",
    "\n",
    "# определяем валюту по стране (если нет отдельного поля)\n",
    "country_currency_map = {\n",
    "    'Australia': 'AUD', 'Brazil': 'BRL', 'Canada': 'CAD',\n",
    "    'Germany': 'EUR', 'France': 'EUR', 'Italy': 'EUR', 'Spain': 'EUR', 'Netherlands': 'EUR',\n",
    "    'United Kingdom': 'GBP', 'UK': 'GBP',\n",
    "    'Japan': 'JPY', 'Mexico': 'MXN', 'Nigeria': 'NGN', 'Russia': 'RUB', 'Singapore': 'SGD',\n",
    "    'United States': 'USD', 'USA': 'USD', 'US': 'USD'\n",
    "}\n",
    "\n",
    "unique_df = unique_df.copy()\n",
    "if 'currency' not in unique_df.columns:\n",
    "    unique_df['currency'] = unique_df['country'].map(country_currency_map).fillna('USD')\n",
    "\n",
    "# преобразуем курсы в long формат\n",
    "currency_long = currency_df.melt(\n",
    "    id_vars=['date'], \n",
    "    var_name='currency', \n",
    "    value_name='usd_rate'\n",
    ")\n",
    "\n",
    "# подготавливаем даты для соединения\n",
    "unique_df['date_only'] = unique_df['timestamp'].dt.date\n",
    "currency_long['date_only'] = currency_long['date'].dt.date\n",
    "\n",
    "# соединяем с курсами\n",
    "merged_df = pd.merge(\n",
    "    unique_df,\n",
    "    currency_long,\n",
    "    left_on=['date_only', 'currency'],\n",
    "    right_on=['date_only', 'currency'],\n",
    "    how='left'\n",
    ")\n",
    "\n",
    "print(f\"Соединено транзакций: {len(merged_df)}\")"
   ]
  },
  {
   "cell_type": "code",
   "execution_count": 112,
   "id": "d42bb6a8",
   "metadata": {},
   "outputs": [
    {
     "name": "stdout",
     "output_type": "stream",
     "text": [
      "Немошеннических операций для анализа: 5,983,860\n"
     ]
    }
   ],
   "source": [
    "# Конвертируем в USD и фильтруем немошеннические:\n",
    "# фильтруем только немошеннические\n",
    "non_fraud_df = merged_df[merged_df['is_fraud'] == False].copy()\n",
    "\n",
    "# конвертируем в USD\n",
    "non_fraud_df['amount_usd'] = non_fraud_df.apply(\n",
    "    lambda row: row['amount'] if row['currency'] == 'USD' \n",
    "    else row['amount'] / row['usd_rate'] if pd.notna(row['usd_rate']) and row['usd_rate'] != 0\n",
    "    else None, axis=1\n",
    ")\n",
    "\n",
    "# убираем строки где конвертация не удалась\n",
    "non_fraud_usd = non_fraud_df[non_fraud_df['amount_usd'].notna()]\n",
    "\n",
    "print(f\"Немошеннических операций для анализа: {len(non_fraud_usd):,}\")"
   ]
  },
  {
   "cell_type": "code",
   "execution_count": 114,
   "id": "9918b7ac",
   "metadata": {},
   "outputs": [
    {
     "name": "stdout",
     "output_type": "stream",
     "text": [
      "\n",
      "Среднеквадратичное отклонение немошеннических операций в USD:\n",
      "Стандартное отклонение: 417.02\n",
      "Среднее значение: 459.79\n",
      "Коэффициент вариации: 0.9070 (90.70%)\n"
     ]
    }
   ],
   "source": [
    "# Рассчитываем среднеквадратичное отклонение:\n",
    "# основной расчет\n",
    "std_deviation = non_fraud_usd['amount_usd'].std()\n",
    "mean_amount = non_fraud_usd['amount_usd'].mean()\n",
    "\n",
    "print(f\"\\nСреднеквадратичное отклонение немошеннических операций в USD:\")\n",
    "print(f\"Стандартное отклонение: {std_deviation:.2f}\")\n",
    "print(f\"Среднее значение: {mean_amount:.2f}\")\n",
    "\n",
    "# коэффициент вариации (относительная изменчивость)\n",
    "coefficient_of_variation = std_deviation / mean_amount\n",
    "print(f\"Коэффициент вариации: {coefficient_of_variation:.4f} ({coefficient_of_variation * 100:.2f}%)\")"
   ]
  },
  {
   "cell_type": "markdown",
   "id": "c46054b3",
   "metadata": {},
   "source": [
    "### Определите, сколько клиентов демонстрируют потенциально опасное поведение: для каждого клиента возьмите медианное значение числа уникальных продавцов из показателя активности «за последний час» на момент транзакции и посчитайте, сколько клиентов строго превышают 95-ый квантиль от этого показателя."
   ]
  },
  {
   "cell_type": "code",
   "execution_count": 116,
   "id": "0567ba0c",
   "metadata": {},
   "outputs": [
    {
     "name": "stdout",
     "output_type": "stream",
     "text": [
      "Общая статистика по полю last_hour_activity.unique_merchants:\n",
      "count    7.477306e+06\n",
      "mean     8.003079e+01\n",
      "std      3.046931e+01\n",
      "min      0.000000e+00\n",
      "25%      6.300000e+01\n",
      "50%      9.500000e+01\n",
      "75%      1.040000e+02\n",
      "max      1.050000e+02\n",
      "Name: last_hour_activity.unique_merchants, dtype: float64\n",
      "\n",
      "Всего уникальных транзакций: 7,477,306\n",
      "Всего уникальных клиентов: 4,869\n",
      "\n",
      "Анализ медианных значений по клиентам:\n",
      "Всего клиентов для анализа: 4,869\n",
      "Статистика медианных значений:\n",
      "count    4869.00\n",
      "mean       93.38\n",
      "std         5.14\n",
      "min        76.00\n",
      "25%        90.00\n",
      "50%        94.00\n",
      "75%        97.00\n",
      "max       105.00\n",
      "Name: last_hour_activity.unique_merchants, dtype: float64\n"
     ]
    }
   ],
   "source": [
    "# удаялем дубликаты\n",
    "unique_df = transact_df.drop_duplicates(subset=['transaction_id'])\n",
    "\n",
    "# поле с уникальными продавцами за последний час\n",
    "MERCHANT_FIELD = 'last_hour_activity.unique_merchants'\n",
    "\n",
    "print(f\"Общая статистика по полю {MERCHANT_FIELD}:\")\n",
    "print(unique_df[MERCHANT_FIELD].describe())\n",
    "\n",
    "print(f\"\\nВсего уникальных транзакций: {len(unique_df):,}\")\n",
    "print(f\"Всего уникальных клиентов: {unique_df['customer_id'].nunique():,}\")\n",
    "\n",
    "# для каждого клиента находим медианное значение уникальных продавцов за час\n",
    "client_median_merchants = unique_df.groupby('customer_id')[MERCHANT_FIELD].median()\n",
    "\n",
    "print(f\"\\nАнализ медианных значений по клиентам:\")\n",
    "print(f\"Всего клиентов для анализа: {len(client_median_merchants):,}\")\n",
    "print(f\"Статистика медианных значений:\")\n",
    "print(client_median_merchants.describe().round(2))"
   ]
  },
  {
   "cell_type": "code",
   "execution_count": 117,
   "id": "d93968be",
   "metadata": {},
   "outputs": [
    {
     "name": "stdout",
     "output_type": "stream",
     "text": [
      "\n",
      "==================================================\n",
      "РЕЗУЛЬТАТ АНАЛИЗА ПОТЕНЦИАЛЬНО ОПАСНОГО ПОВЕДЕНИЯ\n",
      "==================================================\n",
      "95-й квантиль медианных значений: 100.00\n",
      "Количество клиентов с потенциально опасным поведением: 233\n",
      "Доля от общего числа клиентов: 4.785%\n"
     ]
    }
   ],
   "source": [
    "# Находим 95 квантиль и опасных клиентов:\n",
    "# считаем 95квантиль от медианных значений клиентов\n",
    "quantile_95 = client_median_merchants.quantile(0.95)\n",
    "\n",
    "# находим клиентов, которые строго превышают 95 квантиль\n",
    "dangerous_clients = client_median_merchants[client_median_merchants > quantile_95]\n",
    "\n",
    "print(f\"\\n{'='*50}\")\n",
    "print(f\"РЕЗУЛЬТАТ АНАЛИЗА ПОТЕНЦИАЛЬНО ОПАСНОГО ПОВЕДЕНИЯ\")\n",
    "print(f\"{'='*50}\")\n",
    "print(f\"95-й квантиль медианных значений: {quantile_95:.2f}\")\n",
    "print(f\"Количество клиентов с потенциально опасным поведением: {len(dangerous_clients):,}\")\n",
    "print(f\"Доля от общего числа клиентов: {len(dangerous_clients)/len(client_median_merchants)*100:.3f}%\")"
   ]
  },
  {
   "cell_type": "code",
   "execution_count": 102,
   "id": "362f305e",
   "metadata": {},
   "outputs": [
    {
     "name": "stdout",
     "output_type": "stream",
     "text": [
      "\n",
      "Полное распределение медианных значений unique_merchants:\n",
      "Квантиль   Значение   Клиентов выше   % от общего \n",
      "--------------------------------------------------\n",
      "    50.0%      94.00           2,296       47.155%\n",
      "    75.0%      97.00           1,161       23.845%\n",
      "    90.0%      99.00             427        8.770%\n",
      "    95.0%     100.00             233        4.785%\n",
      "    99.0%     104.00              17        0.349%\n",
      "    99.9%     105.00               0        0.000%\n",
      "   100.0%     105.00               0        0.000%\n",
      "\n",
      "Статистика количества транзакций на клиента:\n",
      "count    4869.0\n",
      "mean     1535.7\n",
      "std       383.8\n",
      "min      1000.0\n",
      "25%      1257.0\n",
      "50%      1505.0\n",
      "75%      1762.0\n",
      "max      4012.0\n",
      "Name: count, dtype: float64\n",
      "\n",
      "Топ-10 клиентов по количеству транзакций:\n",
      "  CUST_91730: 4,012 транзакций, медиана = 105.00\n",
      "  CUST_24836: 3,758 транзакций, медиана = 105.00\n",
      "  CUST_87928: 3,752 транзакций, медиана = 105.00\n",
      "  CUST_81009: 3,744 транзакций, медиана = 104.00\n",
      "  CUST_77434: 3,724 транзакций, медиана = 104.00\n",
      "  CUST_12255: 3,697 транзакций, медиана = 104.00\n",
      "  CUST_49715: 3,665 транзакций, медиана = 104.00\n",
      "  CUST_88176: 3,663 транзакций, медиана = 105.00\n",
      "  CUST_79625: 3,647 транзакций, медиана = 104.00\n",
      "  CUST_41245: 3,618 транзакций, медиана = 104.00\n"
     ]
    }
   ],
   "source": [
    "# Дополнительный анализ распределения:\n",
    "# детальное распределение для лучшего понимания\n",
    "quantiles = [0.50, 0.75, 0.90, 0.95, 0.99, 0.999, 1.0]\n",
    "\n",
    "print(f\"\\nПолное распределение медианных значений unique_merchants:\")\n",
    "print(f\"{'Квантиль':<10} {'Значение':<10} {'Клиентов выше':<15} {'% от общего':<12}\")\n",
    "print(f\"{'-'*50}\")\n",
    "\n",
    "for q in quantiles:\n",
    "    if q < 1.0:\n",
    "        value = client_median_merchants.quantile(q)\n",
    "        count_above = (client_median_merchants > value).sum()\n",
    "    else:\n",
    "        value = client_median_merchants.max()\n",
    "        count_above = 0\n",
    "    \n",
    "    pct_above = count_above / len(client_median_merchants) * 100\n",
    "    print(f\"{q*100:8.1f}%   {value:8.2f}   {count_above:13,}   {pct_above:10.3f}%\")\n",
    "\n",
    "# анализ количества транзакций на клиента\n",
    "client_transaction_counts = unique_df['customer_id'].value_counts()\n",
    "print(f\"\\nСтатистика количества транзакций на клиента:\")\n",
    "print(client_transaction_counts.describe().round(2))\n",
    "\n",
    "# проверяем есть ли корреляция между количеством транзакций и медианным значением\n",
    "print(f\"\\nТоп-10 клиентов по количеству транзакций:\")\n",
    "top_active_clients = client_transaction_counts.head(10)\n",
    "for customer_id, transaction_count in top_active_clients.items():\n",
    "    if customer_id in client_median_merchants.index:\n",
    "        median_merchants = client_median_merchants[customer_id]\n",
    "        print(f\"  {customer_id}: {transaction_count:,} транзакций, медиана = {median_merchants:.2f}\")"
   ]
  },
  {
   "cell_type": "code",
   "execution_count": 165,
   "id": "ce0da603",
   "metadata": {},
   "outputs": [
    {
     "name": "stdout",
     "output_type": "stream",
     "text": [
      "Всего уникальных транзакций: 7,483,766\n",
      "Всего уникальных клиентов: 4,869\n",
      "Количество клиентов с медианными значениями: 4,869\n",
      "Статистика медианных значений:\n",
      "count    4869.000000\n",
      "mean       93.370199\n",
      "std         5.138988\n",
      "min        76.000000\n",
      "25%        90.000000\n",
      "50%        94.000000\n",
      "75%        97.000000\n",
      "max       105.000000\n",
      "Name: last_hour_activity.unique_merchants, dtype: float64\n"
     ]
    }
   ],
   "source": [
    "# используем уникальные транзакции\n",
    "# unique_df = transact_df.drop_duplicates(subset=['transaction_id'])\n",
    "unique_df = transact_df.copy()\n",
    "\n",
    "print(f\"Всего уникальных транзакций: {len(unique_df):,}\")\n",
    "print(f\"Всего уникальных клиентов: {unique_df['customer_id'].nunique():,}\")\n",
    "\n",
    "# группируем по customer_id и находим медиану unique_merchants для каждого клиента\n",
    "client_median_merchants = unique_df.groupby('customer_id')['last_hour_activity.unique_merchants'].median()\n",
    "\n",
    "print(f\"Количество клиентов с медианными значениями: {len(client_median_merchants):,}\")\n",
    "print(f\"Статистика медианных значений:\")\n",
    "print(client_median_merchants.describe())"
   ]
  },
  {
   "cell_type": "code",
   "execution_count": 120,
   "id": "ec10655d",
   "metadata": {},
   "outputs": [
    {
     "data": {
      "text/plain": [
       "customer_id\n",
       "CUST_10000     93.0\n",
       "CUST_10018     93.0\n",
       "CUST_10022     95.0\n",
       "CUST_10039     96.0\n",
       "CUST_10102     98.0\n",
       "              ...  \n",
       "CUST_99937     91.0\n",
       "CUST_99944     95.0\n",
       "CUST_99952     96.0\n",
       "CUST_99957     93.0\n",
       "CUST_99971    101.0\n",
       "Name: last_hour_activity.unique_merchants, Length: 4869, dtype: float64"
      ]
     },
     "execution_count": 120,
     "metadata": {},
     "output_type": "execute_result"
    }
   ],
   "source": [
    "client_median_merchants"
   ]
  },
  {
   "cell_type": "code",
   "execution_count": 163,
   "id": "e01b19d1",
   "metadata": {},
   "outputs": [
    {
     "name": "stdout",
     "output_type": "stream",
     "text": [
      "95 квантиль медианных значений: 100.0\n",
      "Количество уникальных медианных значений: 48\n",
      "Уникальные значения (отсортированные): [np.float64(76.0), np.float64(78.0), np.float64(79.0), np.float64(80.0), np.float64(80.5), np.float64(81.0), np.float64(82.0), np.float64(82.5), np.float64(83.0), np.float64(83.5), np.float64(84.0), np.float64(84.5), np.float64(85.0), np.float64(85.5), np.float64(86.0), np.float64(86.5), np.float64(87.0), np.float64(87.5), np.float64(88.0), np.float64(88.5), np.float64(89.0), np.float64(89.5), np.float64(90.0), np.float64(90.5), np.float64(91.0), np.float64(91.5), np.float64(92.0), np.float64(92.5), np.float64(93.0), np.float64(93.5), np.float64(94.0), np.float64(94.5), np.float64(95.0), np.float64(95.5), np.float64(96.0), np.float64(96.5), np.float64(97.0), np.float64(97.5), np.float64(98.0), np.float64(98.5), np.float64(99.0), np.float64(99.5), np.float64(100.0), np.float64(101.0), np.float64(102.0), np.float64(103.0), np.float64(104.0), np.float64(105.0)]\n"
     ]
    }
   ],
   "source": [
    "# находим 95 квантиль от медианных значений клиентов\n",
    "quantile_95 = client_median_merchants.quantile(0.95)\n",
    "\n",
    "print(f\"95 квантиль медианных значений: {quantile_95}\")\n",
    "\n",
    "# проверяем сколько уникальных значений у нас есть\n",
    "unique_median_values = client_median_merchants.unique()\n",
    "print(f\"Количество уникальных медианных значений: {len(unique_median_values)}\")\n",
    "print(f\"Уникальные значения (отсортированные): {sorted(unique_median_values)}\")"
   ]
  },
  {
   "cell_type": "code",
   "execution_count": 166,
   "id": "9ed6e916",
   "metadata": {},
   "outputs": [
    {
     "name": "stdout",
     "output_type": "stream",
     "text": [
      "Клиентов со значением СТРОГО больше 100.0: 229\n",
      "Клиентов со значением больше или равно 100.0: 422\n",
      "\n",
      "Детальная разбивка вокруг 95 квантиля:\n",
      "  Значение 99.0: 330 клиентов\n",
      "  Значение 99.5: 3 клиентов\n",
      "  Значение 100.0: 193 клиентов\n",
      "  Значение 101.0: 92 клиентов\n"
     ]
    }
   ],
   "source": [
    "# строго больше\n",
    "dangerous_clients_strict = client_median_merchants[client_median_merchants > quantile_95]\n",
    "print(f\"Клиентов со значением СТРОГО больше {quantile_95}: {len(dangerous_clients_strict):,}\")\n",
    "\n",
    "# сколько клиентов больше или равно\n",
    "dangerous_clients_inclusive = client_median_merchants[client_median_merchants >= quantile_95]\n",
    "print(f\"Клиентов со значением больше или равно {quantile_95}: {len(dangerous_clients_inclusive):,}\")\n",
    "\n",
    "# разбивка по значениям около 95 квантиля\n",
    "print(f\"\\nДетальная разбивка вокруг 95 квантиля:\")\n",
    "values_around_95 = client_median_merchants.value_counts().sort_index()\n",
    "for value, count in values_around_95.items():\n",
    "    if value >= quantile_95 - 1 and value <= quantile_95 + 1:\n",
    "        print(f\"  Значение {value}: {count:,} клиентов\")"
   ]
  },
  {
   "cell_type": "markdown",
   "id": "154b73e2",
   "metadata": {},
   "source": [
    "### Дополнительно"
   ]
  },
  {
   "cell_type": "code",
   "execution_count": 128,
   "id": "f2188f82",
   "metadata": {},
   "outputs": [
    {
     "name": "stdout",
     "output_type": "stream",
     "text": [
      "БАЗОВАЯ ИНФОРМАЦИЯ О ДАННЫХ\n",
      "--------------------------------------------------\n",
      "Общее количество транзакций: 7,483,766\n",
      "Период данных: 2024-09-30 00:00:01.034820 - 2024-10-30 23:59:59.101885\n",
      "Уникальных клиентов: 4,869\n",
      "Уникальных карт: 5,000\n"
     ]
    }
   ],
   "source": [
    "print(\"БАЗОВАЯ ИНФОРМАЦИЯ О ДАННЫХ\")\n",
    "print(\"-\" * 50)\n",
    "print(f\"Общее количество транзакций: {len(transact_df):,}\")\n",
    "print(f\"Период данных: {transact_df['timestamp'].min()} - {transact_df['timestamp'].max()}\")\n",
    "print(f\"Уникальных клиентов: {transact_df['customer_id'].nunique():,}\")\n",
    "print(f\"Уникальных карт: {transact_df['card_number'].nunique():,}\")"
   ]
  },
  {
   "cell_type": "code",
   "execution_count": 143,
   "id": "eab55577",
   "metadata": {},
   "outputs": [
    {
     "name": "stdout",
     "output_type": "stream",
     "text": [
      "ВРЕМЕННОЙ АНАЛИЗ\n",
      "--------------------------------------------------\n",
      "Активность по часам (топ-5):\n",
      "  01:00 - 280,136 транзакций, 59.26% мошенничества\n",
      "  02:00 - 280,472 транзакций, 59.19% мошенничества\n",
      "  03:00 - 280,031 транзакций, 59.14% мошенничества\n",
      "  04:00 - 281,466 транзакций, 59.13% мошенничества\n",
      "  00:00 - 155,759 транзакций, 26.66% мошенничества\n",
      "\n",
      "Анализ выходных дней:\n",
      "  Будни: 5,554,103.0 транзакций, 19.97% мошенничества\n",
      "  Выходные: 1,929,663.0 транзакций, 19.97% мошенничества\n"
     ]
    },
    {
     "data": {
      "image/png": "[encoded data removed]",
      "text/plain": [
       "<Figure size 1800x1200 with 6 Axes>"
      ]
     },
     "metadata": {},
     "output_type": "display_data"
    }
   ],
   "source": [
    "print(\"ВРЕМЕННОЙ АНАЛИЗ\")\n",
    "print(\"-\" * 50)\n",
    "\n",
    "# добавляем временные признаки для анализа\n",
    "transact_df['hour'] = transact_df['timestamp'].dt.hour\n",
    "transact_df['day_of_week'] = transact_df['timestamp'].dt.dayofweek\n",
    "transact_df['date'] = transact_df['timestamp'].dt.date\n",
    "\n",
    "# анализ по часам\n",
    "hourly_stats = transact_df.groupby('hour').agg({\n",
    "    'transaction_id': 'count',\n",
    "    'is_fraud': ['sum', 'mean']\n",
    "}).round(4)\n",
    "\n",
    "print(\"Активность по часам (топ-5):\")\n",
    "hourly_fraud = hourly_stats.sort_values(('is_fraud', 'mean'), ascending=False)\n",
    "for hour in hourly_fraud.head().index:\n",
    "    count = hourly_fraud.loc[hour, ('transaction_id', 'count')]\n",
    "    fraud_rate = hourly_fraud.loc[hour, ('is_fraud', 'mean')] * 100\n",
    "    print(f\"  {hour:02d}:00 - {count:,} транзакций, {fraud_rate:.2f}% мошенничества\")\n",
    "\n",
    "# анализ выходных дней\n",
    "weekend_stats = transact_df.groupby('is_weekend').agg({\n",
    "    'transaction_id': 'count',\n",
    "    'is_fraud': ['sum', 'mean']\n",
    "}).round(4)\n",
    "\n",
    "print(f\"\\nАнализ выходных дней:\")\n",
    "for is_weekend, row in weekend_stats.iterrows():\n",
    "    day_type = \"Выходные\" if is_weekend else \"Будни\"\n",
    "    count = row[('transaction_id', 'count')]\n",
    "    fraud_rate = row[('is_fraud', 'mean')] * 100\n",
    "    print(f\"  {day_type}: {count:,} транзакций, {fraud_rate:.2f}% мошенничества\")\n",
    "\n",
    "# временные графики\n",
    "fig, axes = plt.subplots(2, 2, figsize=(18, 12))\n",
    "\n",
    "# активность по часам\n",
    "hourly_activity = transact_df.groupby('hour').size()\n",
    "hourly_fraud_rate = transact_df.groupby('hour')['is_fraud'].mean() * 100\n",
    "\n",
    "axes[0,0].bar(hourly_activity.index, hourly_activity.values, alpha=0.7, color='skyblue')\n",
    "axes[0,0].set_title('Количество транзакций по часам')\n",
    "axes[0,0].set_xlabel('Час')\n",
    "axes[0,0].set_ylabel('Количество транзакций')\n",
    "\n",
    "ax_twin = axes[0,0].twinx()\n",
    "ax_twin.plot(hourly_fraud_rate.index, hourly_fraud_rate.values, color='red', linewidth=2, marker='o')\n",
    "ax_twin.set_ylabel('Уровень мошенничества (%)', color='red')\n",
    "\n",
    "# активность по дням недели\n",
    "day_names = ['Пн', 'Вт', 'Ср', 'Чт', 'Пт', 'Сб', 'Вс']\n",
    "daily_activity = transact_df.groupby('day_of_week').size()\n",
    "daily_fraud_rate = transact_df.groupby('day_of_week')['is_fraud'].mean() * 100\n",
    "\n",
    "axes[0,1].bar(daily_activity.index, daily_activity.values, alpha=0.7, color='lightgreen')\n",
    "axes[0,1].set_title('Количество транзакций по дням недели')\n",
    "axes[0,1].set_xlabel('День недели')\n",
    "axes[0,1].set_ylabel('Количество транзакций')\n",
    "axes[0,1].set_xticks(range(7))\n",
    "axes[0,1].set_xticklabels(day_names)\n",
    "\n",
    "ax_twin2 = axes[0,1].twinx()\n",
    "ax_twin2.plot(daily_fraud_rate.index, daily_fraud_rate.values, color='red', linewidth=2, marker='o')\n",
    "ax_twin2.set_ylabel('Уровень мошенничества (%)', color='red')\n",
    "\n",
    "# временной ряд (по дням)\n",
    "daily_counts = transact_df.groupby('date').size()\n",
    "daily_fraud_counts = transact_df[transact_df['is_fraud']].groupby('date').size()\n",
    "\n",
    "axes[1,0].plot(daily_counts.index, daily_counts.values, linewidth=2, label='Всего транзакций')\n",
    "axes[1,0].plot(daily_fraud_counts.index, daily_fraud_counts.values, linewidth=2, color='red', label='Мошеннические')\n",
    "axes[1,0].set_title('Временной ряд транзакций')\n",
    "axes[1,0].set_xlabel('Дата')\n",
    "axes[1,0].set_ylabel('Количество транзакций')\n",
    "axes[1,0].legend()\n",
    "axes[1,0].tick_params(axis='x', rotation=45)\n",
    "\n",
    "# сравнение будни vs выходные\n",
    "weekend_comparison = transact_df.groupby(['is_weekend', 'is_fraud']).size().unstack()\n",
    "weekend_comparison.plot(kind='bar', ax=axes[1,1], color=['lightgreen', 'salmon'])\n",
    "axes[1,1].set_title('Будни vs Выходные: мошенничество')\n",
    "axes[1,1].set_xlabel('Тип дня')\n",
    "axes[1,1].set_ylabel('Количество транзакций')\n",
    "axes[1,1].set_xticklabels(['Будни', 'Выходные'], rotation=0)\n",
    "axes[1,1].legend(['Легитимные', 'Мошеннические'])\n",
    "\n",
    "plt.tight_layout()\n",
    "plt.show()"
   ]
  },
  {
   "cell_type": "code",
   "execution_count": 146,
   "id": "efc25738",
   "metadata": {},
   "outputs": [
    {
     "name": "stdout",
     "output_type": "stream",
     "text": [
      "АНАЛИЗ ПО СТРАНАМ\n",
      "--------------------------------------------------\n",
      "Топ-10 стран по количеству транзакций:\n",
      "  Nigeria: 849,840.0 транзакций, 35.14% мошенничества\n",
      "  Brazil: 804,800.0 транзакций, 37.11% мошенничества\n",
      "  Russia: 793,730.0 транзакций, 37.72% мошенничества\n",
      "  Mexico: 785,704.0 транзакций, 38.03% мошенничества\n",
      "  Singapore: 588,668.0 транзакций, 6.36% мошенничества\n",
      "  France: 541,287.0 транзакций, 6.91% мошенничества\n",
      "  UK: 538,493.0 транзакций, 6.94% мошенничества\n",
      "  Canada: 532,632.0 транзакций, 7.00% мошенничества\n",
      "  Japan: 527,393.0 транзакций, 7.13% мошенничества\n",
      "  Germany: 524,464.0 транзакций, 7.09% мошенничества\n",
      "\n",
      "Транзакции вне страны клиента:\n",
      "  В своей стране: 5,073,605.0 транзакций, 2.49% мошенничества\n",
      "  Вне страны: 2,410,161.0 транзакций, 56.78% мошенничества\n"
     ]
    },
    {
     "data": {
      "image/png": "[encoded data removed]",
      "text/plain": [
       "<Figure size 1800x1200 with 4 Axes>"
      ]
     },
     "metadata": {},
     "output_type": "display_data"
    }
   ],
   "source": [
    "print(\"АНАЛИЗ ПО СТРАНАМ\")\n",
    "print(\"-\" * 50)\n",
    "\n",
    "print(\"Топ-10 стран по количеству транзакций:\")\n",
    "country_stats = transact_df.groupby('country').agg({\n",
    "    'transaction_id': 'count',\n",
    "    'is_fraud': ['sum', 'mean']\n",
    "}).round(4)\n",
    "country_stats.columns = ['total_transactions', 'fraud_count', 'fraud_rate']\n",
    "country_stats = country_stats.sort_values('total_transactions', ascending=False)\n",
    "\n",
    "for country, row in country_stats.head(10).iterrows():\n",
    "    print(f\"  {country}: {row['total_transactions']:,} транзакций, {row['fraud_rate']*100:.2f}% мошенничества\")\n",
    "\n",
    "# анализ транзакций вне страны клиента\n",
    "outside_country_stats = transact_df.groupby('is_outside_home_country').agg({\n",
    "    'transaction_id': 'count',\n",
    "    'is_fraud': ['sum', 'mean']\n",
    "}).round(4)\n",
    "\n",
    "print(f\"\\nТранзакции вне страны клиента:\")\n",
    "for is_outside, row in outside_country_stats.iterrows():\n",
    "    location_type = \"Вне страны\" if is_outside else \"В своей стране\"\n",
    "    count = row[('transaction_id', 'count')]\n",
    "    fraud_rate = row[('is_fraud', 'mean')] * 100\n",
    "    print(f\"  {location_type}: {count:,} транзакций, {fraud_rate:.2f}% мошенничества\")\n",
    "\n",
    "# визуализация географических данных\n",
    "fig, axes = plt.subplots(2, 2, figsize=(18, 12))\n",
    "\n",
    "# топ стран\n",
    "country_stats.head(15)['total_transactions'].plot(kind='bar', ax=axes[0,0], color='lightblue')\n",
    "axes[0,0].set_title('Топ-15 стран по количеству транзакций')\n",
    "axes[0,0].set_xlabel('Страна')\n",
    "axes[0,0].set_ylabel('Количество транзакций')\n",
    "axes[0,0].tick_params(axis='x', rotation=45)\n",
    "\n",
    "# уровень мошенничества по странам (мин 1000 транзакций)\n",
    "high_volume_countries = country_stats[country_stats['total_transactions'] >= 1000]\n",
    "fraud_by_country = high_volume_countries.sort_values('fraud_rate', ascending=False).head(15)\n",
    "fraud_by_country['fraud_rate'].mul(100).plot(kind='bar', ax=axes[0,1], color='salmon')\n",
    "axes[0,1].set_title('Топ-15 стран по уровню мошенничества (мин. 1000 транзакций)')\n",
    "axes[0,1].set_xlabel('Страна')\n",
    "axes[0,1].set_ylabel('Процент мошенничества')\n",
    "axes[0,1].tick_params(axis='x', rotation=45)\n",
    "\n",
    "# размер города\n",
    "city_size_stats = transact_df.groupby('city_size').agg({\n",
    "    'transaction_id': 'count',\n",
    "    'is_fraud': 'mean'\n",
    "}).round(4)\n",
    "city_size_stats['is_fraud'].mul(100).plot(kind='bar', ax=axes[1,0], color='lightcoral')\n",
    "axes[1,0].set_title('Уровень мошенничества по размеру города')\n",
    "axes[1,0].set_xlabel('Размер города')\n",
    "axes[1,0].set_ylabel('Процент мошенничества')\n",
    "\n",
    "# вне страны vs в стране\n",
    "outside_comparison = transact_df.groupby(['is_outside_home_country', 'is_fraud']).size().unstack()\n",
    "outside_comparison.plot(kind='bar', ax=axes[1,1], color=['lightgreen', 'salmon'])\n",
    "axes[1,1].set_title('Транзакции в своей стране vs вне страны')\n",
    "axes[1,1].set_xlabel('Локация')\n",
    "axes[1,1].set_ylabel('Количество транзакций')\n",
    "axes[1,1].set_xticklabels(['В своей стране', 'Вне страны'], rotation=0)\n",
    "axes[1,1].legend(['Легитимные', 'Мошеннические'])\n",
    "\n",
    "plt.tight_layout()\n",
    "plt.show()"
   ]
  },
  {
   "cell_type": "code",
   "execution_count": 161,
   "id": "131bab3e",
   "metadata": {},
   "outputs": [
    {
     "name": "stdout",
     "output_type": "stream",
     "text": [
      "АНАЛИЗ ВЕНДОРОВ И КАТЕГОРИЙ\n",
      "--------------------------------------------------\n",
      "Топ-10 категорий вендоров:\n",
      "  Healthcare: 936,770.0 транзакций, 19.94% мошенничества\n",
      "  Restaurant: 936,178.0 транзакций, 19.97% мошенничества\n",
      "  Entertainment: 936,173.0 транзакций, 19.96% мошенничества\n",
      "  Retail: 935,883.0 транзакций, 19.94% мошенничества\n",
      "  Travel: 935,790.0 транзакций, 20.03% мошенничества\n",
      "  Gas: 935,401.0 транзакций, 19.97% мошенничества\n",
      "  Grocery: 934,029.0 транзакций, 20.02% мошенничества\n",
      "  Education: 933,542.0 транзакций, 19.95% мошенничества\n",
      "\n",
      "Рискованные vs обычные вендоры:\n",
      "  Обычные: 5,611,803.0 транзакций, 19.96% мошенничества\n",
      "  Рискованные: 1,871,963.0 транзакций, 20.00% мошенничества\n"
     ]
    },
    {
     "data": {
      "image/png": "[encoded data removed]",
      "text/plain": [
       "<Figure size 1800x1200 with 4 Axes>"
      ]
     },
     "metadata": {},
     "output_type": "display_data"
    }
   ],
   "source": [
    "print(\"АНАЛИЗ ВЕНДОРОВ И КАТЕГОРИЙ\")\n",
    "print(\"-\" * 50)\n",
    "\n",
    "print(\"Топ-10 категорий вендоров:\")\n",
    "vendor_category_stats = transact_df.groupby('vendor_category').agg({\n",
    "    'transaction_id': 'count',\n",
    "    'is_fraud': ['sum', 'mean']\n",
    "}).round(4)\n",
    "vendor_category_stats.columns = ['total_transactions', 'fraud_count', 'fraud_rate']\n",
    "vendor_category_stats = vendor_category_stats.sort_values('total_transactions', ascending=False)\n",
    "\n",
    "for category, row in vendor_category_stats.head(10).iterrows():\n",
    "    print(f\"  {category}: {row['total_transactions']:,} транзакций, {row['fraud_rate']*100:.2f}% мошенничества\")\n",
    "\n",
    "# анализ рискованных вендоров\n",
    "risk_vendor_stats = transact_df.groupby('is_high_risk_vendor').agg({\n",
    "    'transaction_id': 'count',\n",
    "    'is_fraud': ['sum', 'mean']\n",
    "}).round(4)\n",
    "\n",
    "print(f\"\\nРискованные vs обычные вендоры:\")\n",
    "for is_risky, row in risk_vendor_stats.iterrows():\n",
    "    vendor_type = \"Рискованные\" if is_risky else \"Обычные\"\n",
    "    count = row[('transaction_id', 'count')]\n",
    "    fraud_rate = row[('is_fraud', 'mean')] * 100\n",
    "    print(f\"  {vendor_type}: {count:,} транзакций, {fraud_rate:.2f}% мошенничества\")\n",
    "\n",
    "# визуализация вендоров\n",
    "fig, axes = plt.subplots(2, 2, figsize=(18, 12))\n",
    "\n",
    "# категории вендоров\n",
    "vendor_category_stats.head(12)['total_transactions'].plot(kind='barh', ax=axes[0,0], color='lightblue')\n",
    "axes[0,0].set_title('Топ-12 категорий вендоров')\n",
    "axes[0,0].set_xlabel('Количество транзакций')\n",
    "\n",
    "# уровень мошенничества по категориям\n",
    "vendor_fraud_rate = vendor_category_stats.sort_values('fraud_rate', ascending=False).head(12)\n",
    "vendor_fraud_rate['fraud_rate'].mul(100).plot(kind='barh', ax=axes[0,1], color='salmon')\n",
    "axes[0,1].set_title('Топ-12 категорий по уровню мошенничества')\n",
    "axes[0,1].set_xlabel('Процент мошенничества')\n",
    "\n",
    "# рискованные вендоры\n",
    "risk_comparison = transact_df.groupby(['is_high_risk_vendor', 'is_fraud']).size().unstack()\n",
    "risk_comparison.plot(kind='bar', ax=axes[1,0], color=['lightgreen', 'salmon'])\n",
    "axes[1,0].set_title('Рискованные vs обычные вендоры')\n",
    "axes[1,0].set_xlabel('Тип вендора')\n",
    "axes[1,0].set_ylabel('Количество транзакций')\n",
    "axes[1,0].set_xticklabels(['Обычные', 'Рискованные'], rotation=0)\n",
    "axes[1,0].legend(['Легитимные', 'Мошеннические'])\n",
    "\n",
    "# типы вендоров\n",
    "vendor_type_stats = transact_df['vendor_type'].value_counts().head(10)\n",
    "vendor_type_stats.plot(kind='bar', ax=axes[1,1], color='lightcoral')\n",
    "axes[1,1].set_title('Топ-10 типов вендоров')\n",
    "axes[1,1].set_xlabel('Тип вендора')\n",
    "axes[1,1].set_ylabel('Количество транзакций')\n",
    "axes[1,1].tick_params(axis='x', rotation=45)\n",
    "\n",
    "plt.tight_layout();"
   ]
  },
  {
   "cell_type": "code",
   "execution_count": 152,
   "id": "b1b12912",
   "metadata": {},
   "outputs": [
    {
     "name": "stdout",
     "output_type": "stream",
     "text": [
      "АНАЛИЗ УСТРОЙСТВ И КАНАЛОВ\n",
      "--------------------------------------------------\n",
      "Топ-10 устройств:\n",
      "  Edge: 1,189,560.0 транзакций, 11.68% мошенничества\n",
      "  iOS App: 1,143,461.0 транзакций, 12.27% мошенничества\n",
      "  Chrome: 1,132,384.0 транзакций, 12.37% мошенничества\n",
      "  Android App: 1,126,117.0 транзакций, 12.51% мошенничества\n",
      "  Firefox: 1,120,952.0 транзакций, 12.68% мошенничества\n",
      "  Safari: 1,120,245.0 транзакций, 12.62% мошенничества\n",
      "  Chip Reader: 217,324.0 транзакций, 100.00% мошенничества\n",
      "  Magnetic Stripe: 217,204.0 транзакций, 100.00% мошенничества\n",
      "  NFC Payment: 216,519.0 транзакций, 100.00% мошенничества\n",
      "\n",
      "Топ-5 каналов:\n",
      "  web: 4,563,141.0 транзакций, 12.33% мошенничества\n",
      "  mobile: 2,269,578.0 транзакций, 12.39% мошенничества\n",
      "  pos: 651,047.0 транзакций, 100.00% мошенничества\n",
      "\n",
      "Присутствие карты:\n",
      "  Карта отсутствует: 6,832,719.0 транзакций, 12.35% мошенничества\n",
      "  Карта присутствует: 651,047.0 транзакций, 100.00% мошенничества\n"
     ]
    },
    {
     "data": {
      "image/png": "[encoded data removed]",
      "text/plain": [
       "<Figure size 1800x1200 with 4 Axes>"
      ]
     },
     "metadata": {},
     "output_type": "display_data"
    }
   ],
   "source": [
    "print(\"АНАЛИЗ УСТРОЙСТВ И КАНАЛОВ\")\n",
    "print(\"-\" * 50)\n",
    "\n",
    "print(\"Топ-10 устройств:\")\n",
    "device_stats = transact_df.groupby('device').agg({\n",
    "    'transaction_id': 'count',\n",
    "    'is_fraud': ['sum', 'mean']\n",
    "}).round(4)\n",
    "device_stats.columns = ['total_transactions', 'fraud_count', 'fraud_rate']\n",
    "device_stats = device_stats.sort_values('total_transactions', ascending=False)\n",
    "\n",
    "for device, row in device_stats.head(10).iterrows():\n",
    "    print(f\"  {device}: {row['total_transactions']:,} транзакций, {row['fraud_rate']*100:.2f}% мошенничества\")\n",
    "\n",
    "print(f\"\\nТоп-5 каналов:\")\n",
    "channel_stats = transact_df.groupby('channel').agg({\n",
    "    'transaction_id': 'count',\n",
    "    'is_fraud': ['sum', 'mean']\n",
    "}).round(4)\n",
    "channel_stats.columns = ['total_transactions', 'fraud_count', 'fraud_rate']\n",
    "channel_stats = channel_stats.sort_values('total_transactions', ascending=False)\n",
    "\n",
    "for channel, row in channel_stats.iterrows():\n",
    "    print(f\"  {channel}: {row['total_transactions']:,} транзакций, {row['fraud_rate']*100:.2f}% мошенничества\")\n",
    "\n",
    "# анализ присутствия карты\n",
    "card_present_stats = transact_df.groupby('is_card_present').agg({\n",
    "    'transaction_id': 'count',\n",
    "    'is_fraud': ['sum', 'mean']\n",
    "}).round(4)\n",
    "\n",
    "print(f\"\\nПрисутствие карты:\")\n",
    "for is_present, row in card_present_stats.iterrows():\n",
    "    presence = \"Карта присутствует\" if is_present else \"Карта отсутствует\"\n",
    "    count = row[('transaction_id', 'count')]\n",
    "    fraud_rate = row[('is_fraud', 'mean')] * 100\n",
    "    print(f\"  {presence}: {count:,} транзакций, {fraud_rate:.2f}% мошенничества\")\n",
    "\n",
    "# визуализация устройств и каналов\n",
    "fig, axes = plt.subplots(2, 2, figsize=(18, 12))\n",
    "\n",
    "# топ устройства\n",
    "device_stats.head(12)['total_transactions'].plot(kind='barh', ax=axes[0,0], color='lightblue')\n",
    "axes[0,0].set_title('Топ-12 устройств')\n",
    "axes[0,0].set_xlabel('Количество транзакций')\n",
    "\n",
    "# каналы\n",
    "channel_stats['total_transactions'].plot(kind='bar', ax=axes[0,1], color='lightgreen')\n",
    "axes[0,1].set_title('Распределение по каналам')\n",
    "axes[0,1].set_xlabel('Канал')\n",
    "axes[0,1].set_ylabel('Количество транзакций')\n",
    "\n",
    "# присутствие карты\n",
    "card_present_comparison = transact_df.groupby(['is_card_present', 'is_fraud']).size().unstack()\n",
    "card_present_comparison.plot(kind='bar', ax=axes[1,0], color=['lightgreen', 'salmon'])\n",
    "axes[1,0].set_title('Присутствие карты vs мошенничество')\n",
    "axes[1,0].set_xlabel('Присутствие карты')\n",
    "axes[1,0].set_ylabel('Количество транзакций')\n",
    "axes[1,0].set_xticklabels(['Карта отсутствует', 'Карта присутствует'], rotation=0)\n",
    "axes[1,0].legend(['Легитимные', 'Мошеннические'])\n",
    "\n",
    "# уровень мошенничества по устройствам (топ по мошенничеству)\n",
    "device_fraud_rate = device_stats[device_stats['total_transactions'] >= 1000]\n",
    "device_fraud_top = device_fraud_rate.sort_values('fraud_rate', ascending=False).head(10)\n",
    "device_fraud_top['fraud_rate'].mul(100).plot(kind='barh', ax=axes[1,1], color='salmon')\n",
    "axes[1,1].set_title('Топ-10 устройств по уровню мошенничества')\n",
    "axes[1,1].set_xlabel('Процент мошенничества')\n",
    "\n",
    "plt.tight_layout()\n",
    "plt.show()"
   ]
  },
  {
   "cell_type": "code",
   "execution_count": 157,
   "id": "0704fb38",
   "metadata": {},
   "outputs": [
    {
     "name": "stdout",
     "output_type": "stream",
     "text": [
      "КОРРЕЛЯЦИОННЫЙ АНАЛИЗ\n",
      "--------------------------------------------------\n",
      "Топ корреляции с мошенничеством:\n",
      "  is_outside_home_country: 0.6345\n",
      "  is_card_present: 0.6179\n",
      "  amount: 0.1993\n",
      "  is_high_risk_vendor: 0.0004\n",
      "  is_weekend: 0.0000\n"
     ]
    },
    {
     "data": {
      "image/png": "[encoded data removed]",
      "text/plain": [
       "<Figure size 1400x1000 with 2 Axes>"
      ]
     },
     "metadata": {},
     "output_type": "display_data"
    }
   ],
   "source": [
    "print(\"КОРРЕЛЯЦИОННЫЙ АНАЛИЗ\")\n",
    "print(\"-\" * 50)\n",
    "\n",
    "# выбираем числовые столбцы для корреляции\n",
    "numeric_cols = ['amount', 'is_fraud', 'is_card_present', 'is_outside_home_country', \n",
    "               'is_high_risk_vendor', 'is_weekend']\n",
    "\n",
    "# преобразуем булевые значения в численные\n",
    "correlation_data = transact_df[numeric_cols].copy()\n",
    "for col in ['is_fraud', 'is_card_present', 'is_outside_home_country', 'is_high_risk_vendor', 'is_weekend']:\n",
    "    correlation_data[col] = correlation_data[col].astype(int)\n",
    "\n",
    "# вычисляем корреляцию\n",
    "correlation_matrix = correlation_data.corr()\n",
    "\n",
    "print(\"Топ корреляции с мошенничеством:\")\n",
    "fraud_correlations = correlation_matrix['is_fraud'].abs().sort_values(ascending=False)\n",
    "for feature, corr in fraud_correlations.items():\n",
    "    if feature != 'is_fraud':\n",
    "        print(f\"  {feature}: {corr:.4f}\")\n",
    "\n",
    "# визуализация корреляционной матрицы\n",
    "plt.figure(figsize=(14, 10))\n",
    "mask = np.triu(np.ones_like(correlation_matrix, dtype=bool))\n",
    "sns.heatmap(correlation_matrix, mask=mask, annot=True, cmap='RdYlBu_r', center=0,\n",
    "            square=True, fmt='.3f', cbar_kws={\"shrink\": .8})\n",
    "plt.title('Корреляционная матрица признаков', fontsize=16, fontweight='bold')\n",
    "plt.tight_layout()\n",
    "plt.show();\n"
   ]
  },
  {
   "cell_type": "code",
   "execution_count": 160,
   "id": "33cbd402",
   "metadata": {},
   "outputs": [
    {
     "name": "stdout",
     "output_type": "stream",
     "text": [
      "SUMMARY\n",
      "============================================================\n",
      "Общие характеристики датасета:\n",
      "  • Всего транзакций: 7,483,766\n",
      "  • Уникальных клиентов: 4,869\n",
      "  • Период: 30 дней\n",
      "  • Объем данных: 6.58 GB\n",
      "\n",
      "Ключевые находки по мошенничеству:\n",
      "  • Общий уровень мошенничества: 19.97%\n",
      "  • Соотношение легитимных к мошенническим: 5,989,047 : 1,494,719\n",
      "\n",
      "Топ факторы риска (корреляция с мошенничеством):\n",
      "  • is_outside_home_country: 0.6345\n",
      "  • is_card_present: 0.6179\n",
      "  • amount: 0.1993\n",
      "  • is_high_risk_vendor: 0.0004\n",
      "  • is_weekend: 0.0000\n",
      "\n",
      "Географическое распределение:\n",
      "  • Стран: 12\n",
      "  • Городов: 11\n",
      "  • Транзакций вне страны клиента: 2,410,161 (32.2%)\n",
      "\n",
      "Технологические характеристики:\n",
      "  • Уникальных устройств: 9\n",
      "  • Каналов: 3\n",
      "  • Отпечатков устройств: 785,462\n",
      "\n",
      "Время и активность:\n",
      "  • Самый активный час: 18:00 (456,393 транзакций)\n",
      "  • Пик мошенничества: 01:00 (59.26%)\n",
      "  • Выходные дни составляют: 1,929,663 транзакций (25.8%)\n"
     ]
    }
   ],
   "source": [
    "print(\"SUMMARY\")\n",
    "print(\"=\" * 60)\n",
    "print(f\"Общие характеристики датасета:\")\n",
    "print(f\"  • Всего транзакций: {len(transact_df):,}\")\n",
    "print(f\"  • Уникальных клиентов: {transact_df['customer_id'].nunique():,}\")\n",
    "print(f\"  • Период: {(transact_df['timestamp'].max() - transact_df['timestamp'].min()).days} дней\")\n",
    "print(f\"  • Объем данных: {transact_df.memory_usage(deep=True).sum() / 1024**3:.2f} GB\")\n",
    "\n",
    "print(f\"\\nКлючевые находки по мошенничеству:\")\n",
    "fraud_rate = transact_df['is_fraud'].mean() * 100\n",
    "print(f\"  • Общий уровень мошенничества: {fraud_rate:.2f}%\")\n",
    "print(f\"  • Соотношение легитимных к мошенническим: {fraud_stats[False]:,} : {fraud_stats[True]:,}\")\n",
    "\n",
    "# топ факторы риска\n",
    "print(f\"\\nТоп факторы риска (корреляция с мошенничеством):\")\n",
    "for feature, corr in fraud_correlations.head(6).items():\n",
    "    if feature != 'is_fraud':\n",
    "        print(f\"  • {feature}: {corr:.4f}\")\n",
    "\n",
    "print(f\"\\nГеографическое распределение:\")\n",
    "print(f\"  • Стран: {transact_df['country'].nunique()}\")\n",
    "print(f\"  • Городов: {transact_df['city'].nunique()}\")\n",
    "print(f\"  • Транзакций вне страны клиента: {transact_df['is_outside_home_country'].sum():,} ({transact_df['is_outside_home_country'].mean()*100:.1f}%)\")\n",
    "\n",
    "print(f\"\\nТехнологические характеристики:\")\n",
    "print(f\"  • Уникальных устройств: {transact_df['device'].nunique()}\")\n",
    "print(f\"  • Каналов: {transact_df['channel'].nunique()}\")\n",
    "print(f\"  • Отпечатков устройств: {transact_df['device_fingerprint'].nunique():,}\")\n",
    "\n",
    "print(f\"\\nВремя и активность:\")\n",
    "most_active_hour = hourly_activity.idxmax()\n",
    "peak_fraud_hour = hourly_fraud_rate.idxmax()\n",
    "print(f\"  • Самый активный час: {most_active_hour:02d}:00 ({hourly_activity.max():,} транзакций)\")\n",
    "print(f\"  • Пик мошенничества: {peak_fraud_hour:02d}:00 ({hourly_fraud_rate.max():.2f}%)\")\n",
    "print(f\"  • Выходные дни составляют: {transact_df['is_weekend'].sum():,} транзакций ({transact_df['is_weekend'].mean()*100:.1f}%)\")"
   ]
  },
  {
   "cell_type": "code",
   "execution_count": null,
   "id": "ce01bb69",
   "metadata": {},
   "outputs": [],
   "source": []
  }
 ],
 "metadata": {
  "kernelspec": {
   "display_name": "itmo-kontest",
   "language": "python",
   "name": "python3"
  },
  "language_info": {
   "codemirror_mode": {
    "name": "ipython",
    "version": 3
   },
   "file_extension": ".py",
   "mimetype": "text/x-python",
   "name": "python",
   "nbconvert_exporter": "python",
   "pygments_lexer": "ipython3",
   "version": "3.13.2"
  }
 },
 "nbformat": 4,
 "nbformat_minor": 5
}
